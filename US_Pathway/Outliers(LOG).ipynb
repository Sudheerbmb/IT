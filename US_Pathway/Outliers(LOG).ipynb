{
 "cells": [
  {
   "cell_type": "code",
   "execution_count": 1,
   "metadata": {},
   "outputs": [
    {
     "name": "stdout",
     "output_type": "stream",
     "text": [
      "Campaigns running on more than one platform:\n",
      "Empty DataFrame\n",
      "Columns: [campaign_name, platform]\n",
      "Index: []\n",
      "                                        campaign_name  platform\n",
      "0   CBO - USP Masterclass Cold [ 15th Dec ] - High...         1\n",
      "1   CBO - USP Masterclass Cold [ 15th Dec ] - More...         1\n",
      "2   CBO - USP Masterclass Cold [ 23rd Nov ] - High...         1\n",
      "3   CBO - USP Masterclass Cold [ 23rd Nov ] - More...         1\n",
      "4   USP Masterclass Cold [ 14th Dec ] - Link Click Ad         1\n",
      "5   USP Masterclass Cold [ 23rd Nov ] - More volum...         1\n",
      "6   USP Masterclass Cold [ 31st Oct ] - Higher Int...         1\n",
      "7   USP Masterclass Cold [ 31st Oct ] - More Volum...         1\n",
      "8   USP Masterclass Cold [ 31st Oct ] - More volum...         1\n",
      "9                     USP Study Abroad_Generic_240224         1\n",
      "10                            USP_2_Lead-gen-1_220124         1\n",
      "11                USP_2_Lead-gen-2_Top4-states_050424         1\n",
      "12  USP_COOP-Drexel_More_Volume_No Logic_India_240124         1\n",
      "13                      USP_MS + Coop Campaign_240224         1\n",
      "14        USP_Marketing+MBA_New Leads Campaign_240224         1\n",
      "15    USP_Program_Higher Intent_No Logic_India_220124         1\n",
      "16  USP_Program_Higher Intent_No Logic_South-state...         1\n",
      "17              USP_Program_Lead-gen_2_Generic_140223         1\n",
      "18                USP_Program_Lead-gen_3_Co-op_140223         1\n",
      "19              USP_Program_Lead-gen_4_MAR&MBA_140223         1\n",
      "20      USP_Program_More-Volume_No Logic_India_220124         1\n",
      "21  USP_Program_More-Volume_No Logic_South-states_...         1\n",
      "22    USP_Program_More-volume_With-Logic_India_220124         1\n",
      "23  USP_Program_More-volume_With-Logic_South-state...         1\n",
      "24                         USP_Search_APTNTSKA_250124         1\n",
      "25                USP_Search_India-ex-APTNTSKA_250124         1\n",
      "26       USP_Video_ALL-India_Lead-Gen_Keywords_110324         1\n",
      "27                 USP_Video_APTLTSKA_Lead-Gen_160224         1\n",
      "28   USP_Video_APTLTSKA_Lead-Gen_Custom-intent_050324         1\n",
      "29        USP_Video_APTLTSKA_Lead-Gen_Keywords_050324         1\n",
      "30        USP_Video_APTLTSKA_Lead-Gen_Websites_050324         1\n",
      "31        USP_Video_India_EX-APTLTSKA_Lead-Gen_160224         1\n",
      "32      USP_Video_More_Volume_No Logic_India_New Link         1\n",
      "33                                USP_Webinar2_270324         1\n",
      "34                                 USP_Webinar_070324         1\n",
      "35                     US_Pathway_2_Lead_gen_1_091123         1\n",
      "36                     US_Pathway_2_Lead_gen_2_091123         1\n",
      "37                     US_Pathway_2_Lead_gen_3_241123         1\n",
      "38                     US_Pathway_2_Lead_gen_4_220324         1\n",
      "39  xCBO - USP Masterclass Cold [ 23rd Nov ] - Mor...         1\n",
      "40  xCBO - USP Masterclass Cold [ 7th Dec ] - High...         1\n"
     ]
    }
   ],
   "source": [
    "import pandas as pd\n",
    "\n",
    "\n",
    "\n",
    "df1 = pd.read_excel(\"cleaned_campaign_performance.xlsx\")\n",
    "\n",
    "campaign_platforms = df1.groupby('campaign_name')['platform'].nunique().reset_index()\n",
    "\n",
    "multi_platform_campaigns = campaign_platforms[campaign_platforms['platform'] > 1]\n",
    "\n",
    "print(\"Campaigns running on more than one platform:\")\n",
    "print(multi_platform_campaigns)\n",
    "print(campaign_platforms)\n"
   ]
  },
  {
   "cell_type": "code",
   "execution_count": 2,
   "metadata": {},
   "outputs": [
    {
     "name": "stdout",
     "output_type": "stream",
     "text": [
      "dates                  datetime64[ns]\n",
      "campaign_name                  object\n",
      "campaign_start_date    datetime64[ns]\n",
      "creative_name                  object\n",
      "total_spent                   float64\n",
      "impressions                     int64\n",
      "clicks                          int64\n",
      "click_through_rate            float64\n",
      "leads                         float64\n",
      "platform                       object\n",
      "adset_name                     object\n",
      "dtype: object\n"
     ]
    }
   ],
   "source": [
    "print(df1.dtypes)"
   ]
  },
  {
   "cell_type": "code",
   "execution_count": 3,
   "metadata": {},
   "outputs": [],
   "source": [
    "\n",
    "df1['campaign_name'] = df1['campaign_name'].str.capitalize()"
   ]
  },
  {
   "cell_type": "code",
   "execution_count": 4,
   "metadata": {},
   "outputs": [
    {
     "name": "stdout",
     "output_type": "stream",
     "text": [
      "datetime64[ns]\n"
     ]
    }
   ],
   "source": [
    "\n",
    "# Check the datatype of the date column\n",
    "print(df1['campaign_start_date'].dtype)\n",
    "\n"
   ]
  },
  {
   "cell_type": "code",
   "execution_count": 5,
   "metadata": {},
   "outputs": [
    {
     "data": {
      "text/html": [
       "<div>\n",
       "<style scoped>\n",
       "    .dataframe tbody tr th:only-of-type {\n",
       "        vertical-align: middle;\n",
       "    }\n",
       "\n",
       "    .dataframe tbody tr th {\n",
       "        vertical-align: top;\n",
       "    }\n",
       "\n",
       "    .dataframe thead th {\n",
       "        text-align: right;\n",
       "    }\n",
       "</style>\n",
       "<table border=\"1\" class=\"dataframe\">\n",
       "  <thead>\n",
       "    <tr style=\"text-align: right;\">\n",
       "      <th></th>\n",
       "      <th>dates</th>\n",
       "      <th>campaign_name</th>\n",
       "      <th>campaign_start_date</th>\n",
       "      <th>creative_name</th>\n",
       "      <th>total_spent</th>\n",
       "      <th>impressions</th>\n",
       "      <th>clicks</th>\n",
       "      <th>click_through_rate</th>\n",
       "      <th>leads</th>\n",
       "      <th>platform</th>\n",
       "      <th>adset_name</th>\n",
       "    </tr>\n",
       "  </thead>\n",
       "  <tbody>\n",
       "    <tr>\n",
       "      <th>0</th>\n",
       "      <td>2024-04-29</td>\n",
       "      <td>Usp_search_aptntska_250124</td>\n",
       "      <td>2024-01-25</td>\n",
       "      <td>--</td>\n",
       "      <td>6766.15</td>\n",
       "      <td>1250</td>\n",
       "      <td>220</td>\n",
       "      <td>0.176000</td>\n",
       "      <td>25.0</td>\n",
       "      <td>Google</td>\n",
       "      <td>GMAT/GRE</td>\n",
       "    </tr>\n",
       "    <tr>\n",
       "      <th>1</th>\n",
       "      <td>2024-05-02</td>\n",
       "      <td>Usp_2_lead-gen-2_top4-states_050424</td>\n",
       "      <td>2024-04-05</td>\n",
       "      <td>#7 ( graphic ) - get a free pass</td>\n",
       "      <td>946.38</td>\n",
       "      <td>3154</td>\n",
       "      <td>9</td>\n",
       "      <td>0.285352</td>\n",
       "      <td>1.0</td>\n",
       "      <td>Facebook</td>\n",
       "      <td>USP-2_KA_TN_050424</td>\n",
       "    </tr>\n",
       "    <tr>\n",
       "      <th>2</th>\n",
       "      <td>2024-05-02</td>\n",
       "      <td>Usp_2_lead-gen-2_top4-states_050424</td>\n",
       "      <td>2024-04-05</td>\n",
       "      <td>Usp_s3_never-been-easier</td>\n",
       "      <td>170.40</td>\n",
       "      <td>2695</td>\n",
       "      <td>8</td>\n",
       "      <td>0.296846</td>\n",
       "      <td>0.0</td>\n",
       "      <td>Facebook</td>\n",
       "      <td>USP-2_KA_TN_050424</td>\n",
       "    </tr>\n",
       "    <tr>\n",
       "      <th>3</th>\n",
       "      <td>2024-05-02</td>\n",
       "      <td>Usp_2_lead-gen-2_top4-states_050424</td>\n",
       "      <td>2024-04-05</td>\n",
       "      <td>Usp_s4_do-you-have</td>\n",
       "      <td>55.65</td>\n",
       "      <td>577</td>\n",
       "      <td>2</td>\n",
       "      <td>0.346620</td>\n",
       "      <td>0.0</td>\n",
       "      <td>Facebook</td>\n",
       "      <td>USP-2_KA_TN_050424</td>\n",
       "    </tr>\n",
       "    <tr>\n",
       "      <th>4</th>\n",
       "      <td>2024-05-02</td>\n",
       "      <td>Usp_2_lead-gen-2_top4-states_050424</td>\n",
       "      <td>2024-04-05</td>\n",
       "      <td>Usp_s1_we-guarantee</td>\n",
       "      <td>296.94</td>\n",
       "      <td>1466</td>\n",
       "      <td>10</td>\n",
       "      <td>0.682128</td>\n",
       "      <td>1.0</td>\n",
       "      <td>Facebook</td>\n",
       "      <td>USP-2_AP_TS_050424</td>\n",
       "    </tr>\n",
       "    <tr>\n",
       "      <th>5</th>\n",
       "      <td>2024-05-02</td>\n",
       "      <td>Usp_2_lead-gen-2_top4-states_050424</td>\n",
       "      <td>2024-04-05</td>\n",
       "      <td>Usp_s4_do-you-have</td>\n",
       "      <td>64.11</td>\n",
       "      <td>1115</td>\n",
       "      <td>3</td>\n",
       "      <td>0.269058</td>\n",
       "      <td>0.0</td>\n",
       "      <td>Facebook</td>\n",
       "      <td>USP-2_AP_TS_050424</td>\n",
       "    </tr>\n",
       "    <tr>\n",
       "      <th>6</th>\n",
       "      <td>2024-05-02</td>\n",
       "      <td>Usp_2_lead-gen-2_top4-states_050424</td>\n",
       "      <td>2024-04-05</td>\n",
       "      <td>Usp_s3_never-been-easier</td>\n",
       "      <td>191.13</td>\n",
       "      <td>4131</td>\n",
       "      <td>11</td>\n",
       "      <td>0.266279</td>\n",
       "      <td>0.0</td>\n",
       "      <td>Facebook</td>\n",
       "      <td>USP-2_AP_TS_050424</td>\n",
       "    </tr>\n",
       "    <tr>\n",
       "      <th>7</th>\n",
       "      <td>2024-05-02</td>\n",
       "      <td>Usp study abroad_generic_240224</td>\n",
       "      <td>2024-02-24</td>\n",
       "      <td>Usp_kavita&amp;steffi_videoad6</td>\n",
       "      <td>1201.92</td>\n",
       "      <td>3056</td>\n",
       "      <td>34</td>\n",
       "      <td>1.112565</td>\n",
       "      <td>6.0</td>\n",
       "      <td>Facebook</td>\n",
       "      <td>All India Generic Leads Ad Set_240224</td>\n",
       "    </tr>\n",
       "    <tr>\n",
       "      <th>8</th>\n",
       "      <td>2024-05-02</td>\n",
       "      <td>Usp_2_lead-gen-2_top4-states_050424</td>\n",
       "      <td>2024-04-05</td>\n",
       "      <td>#8 ( graphic ) - study in the usa</td>\n",
       "      <td>214.40</td>\n",
       "      <td>592</td>\n",
       "      <td>4</td>\n",
       "      <td>0.675676</td>\n",
       "      <td>1.0</td>\n",
       "      <td>Facebook</td>\n",
       "      <td>USP-2_AP_TS_050424</td>\n",
       "    </tr>\n",
       "    <tr>\n",
       "      <th>9</th>\n",
       "      <td>2024-05-02</td>\n",
       "      <td>Usp_2_lead-gen-1_220124</td>\n",
       "      <td>2024-01-22</td>\n",
       "      <td>Usp_s4_do-you-have</td>\n",
       "      <td>14.82</td>\n",
       "      <td>8</td>\n",
       "      <td>0</td>\n",
       "      <td>0.000000</td>\n",
       "      <td>0.0</td>\n",
       "      <td>Facebook</td>\n",
       "      <td>USP-2_Data_Job-title_India_exclude_KATNTSAP</td>\n",
       "    </tr>\n",
       "    <tr>\n",
       "      <th>10</th>\n",
       "      <td>2024-05-02</td>\n",
       "      <td>Usp_2_lead-gen-1_220124</td>\n",
       "      <td>2024-01-22</td>\n",
       "      <td>Usp_s3_never-been-easier</td>\n",
       "      <td>42.96</td>\n",
       "      <td>2</td>\n",
       "      <td>2</td>\n",
       "      <td>100.000000</td>\n",
       "      <td>1.0</td>\n",
       "      <td>Facebook</td>\n",
       "      <td>USP-2_Data_Job-title_India_exclude_KATNTSAP</td>\n",
       "    </tr>\n",
       "    <tr>\n",
       "      <th>11</th>\n",
       "      <td>2024-05-02</td>\n",
       "      <td>Usp_2_lead-gen-1_220124</td>\n",
       "      <td>2024-01-22</td>\n",
       "      <td>Usp_s2_faced-rejection</td>\n",
       "      <td>39.18</td>\n",
       "      <td>3</td>\n",
       "      <td>0</td>\n",
       "      <td>0.000000</td>\n",
       "      <td>0.0</td>\n",
       "      <td>Facebook</td>\n",
       "      <td>USP-2_Data_Job-title_India_exclude_KATNTSAP</td>\n",
       "    </tr>\n",
       "    <tr>\n",
       "      <th>12</th>\n",
       "      <td>2024-05-02</td>\n",
       "      <td>Usp_2_lead-gen-1_220124</td>\n",
       "      <td>2024-01-22</td>\n",
       "      <td>Usp_s1_we-guarantee</td>\n",
       "      <td>378.32</td>\n",
       "      <td>114</td>\n",
       "      <td>3</td>\n",
       "      <td>2.631579</td>\n",
       "      <td>0.0</td>\n",
       "      <td>Facebook</td>\n",
       "      <td>USP-2_Data_Job-title_India_exclude_KATNTSAP</td>\n",
       "    </tr>\n",
       "    <tr>\n",
       "      <th>13</th>\n",
       "      <td>2024-05-02</td>\n",
       "      <td>Usp study abroad_generic_240224</td>\n",
       "      <td>2024-02-24</td>\n",
       "      <td>Usp_s4_do-you-have</td>\n",
       "      <td>87.27</td>\n",
       "      <td>58</td>\n",
       "      <td>0</td>\n",
       "      <td>0.000000</td>\n",
       "      <td>0.0</td>\n",
       "      <td>Facebook</td>\n",
       "      <td>All India Generic Leads Ad Set_240224</td>\n",
       "    </tr>\n",
       "    <tr>\n",
       "      <th>14</th>\n",
       "      <td>2024-05-02</td>\n",
       "      <td>Usp study abroad_generic_240224</td>\n",
       "      <td>2024-02-24</td>\n",
       "      <td>Usp_s5_easy-for-you</td>\n",
       "      <td>36.15</td>\n",
       "      <td>28</td>\n",
       "      <td>1</td>\n",
       "      <td>3.571429</td>\n",
       "      <td>0.0</td>\n",
       "      <td>Facebook</td>\n",
       "      <td>All India Generic Leads Ad Set_240224</td>\n",
       "    </tr>\n",
       "    <tr>\n",
       "      <th>15</th>\n",
       "      <td>2024-05-02</td>\n",
       "      <td>Usp study abroad_generic_240224</td>\n",
       "      <td>2024-02-24</td>\n",
       "      <td>Usp_s3_never-been-easier</td>\n",
       "      <td>18.41</td>\n",
       "      <td>2</td>\n",
       "      <td>0</td>\n",
       "      <td>0.000000</td>\n",
       "      <td>0.0</td>\n",
       "      <td>Facebook</td>\n",
       "      <td>All India Generic Leads Ad Set_240224</td>\n",
       "    </tr>\n",
       "    <tr>\n",
       "      <th>16</th>\n",
       "      <td>2024-05-04</td>\n",
       "      <td>Usp_2_lead-gen-1_220124</td>\n",
       "      <td>2024-01-22</td>\n",
       "      <td>State university of new york_new</td>\n",
       "      <td>22.97</td>\n",
       "      <td>44</td>\n",
       "      <td>1</td>\n",
       "      <td>2.272727</td>\n",
       "      <td>0.0</td>\n",
       "      <td>Facebook</td>\n",
       "      <td>USP-2_Data_Job-title_India_exclude_KATNTSAP</td>\n",
       "    </tr>\n",
       "    <tr>\n",
       "      <th>17</th>\n",
       "      <td>2024-05-04</td>\n",
       "      <td>Usp study abroad_generic_240224</td>\n",
       "      <td>2024-02-24</td>\n",
       "      <td>Usp_kavita&amp;steffi_videoad6</td>\n",
       "      <td>1246.20</td>\n",
       "      <td>7195</td>\n",
       "      <td>51</td>\n",
       "      <td>0.708826</td>\n",
       "      <td>0.0</td>\n",
       "      <td>Facebook</td>\n",
       "      <td>All India focusing on Uni Ad Set_060324</td>\n",
       "    </tr>\n",
       "    <tr>\n",
       "      <th>18</th>\n",
       "      <td>2024-05-04</td>\n",
       "      <td>Usp study abroad_generic_240224</td>\n",
       "      <td>2024-02-24</td>\n",
       "      <td>Usp_s4_do-you-have</td>\n",
       "      <td>25.52</td>\n",
       "      <td>7</td>\n",
       "      <td>1</td>\n",
       "      <td>14.285714</td>\n",
       "      <td>0.0</td>\n",
       "      <td>Facebook</td>\n",
       "      <td>All India Counselling Look-a-like_290224</td>\n",
       "    </tr>\n",
       "    <tr>\n",
       "      <th>19</th>\n",
       "      <td>2024-05-04</td>\n",
       "      <td>Usp study abroad_generic_240224</td>\n",
       "      <td>2024-02-24</td>\n",
       "      <td>Usp_s1_we-guarantee</td>\n",
       "      <td>379.82</td>\n",
       "      <td>135</td>\n",
       "      <td>11</td>\n",
       "      <td>8.148148</td>\n",
       "      <td>4.0</td>\n",
       "      <td>Facebook</td>\n",
       "      <td>All India Counselling Look-a-like_290224</td>\n",
       "    </tr>\n",
       "  </tbody>\n",
       "</table>\n",
       "</div>"
      ],
      "text/plain": [
       "        dates                        campaign_name campaign_start_date  \\\n",
       "0  2024-04-29           Usp_search_aptntska_250124          2024-01-25   \n",
       "1  2024-05-02  Usp_2_lead-gen-2_top4-states_050424          2024-04-05   \n",
       "2  2024-05-02  Usp_2_lead-gen-2_top4-states_050424          2024-04-05   \n",
       "3  2024-05-02  Usp_2_lead-gen-2_top4-states_050424          2024-04-05   \n",
       "4  2024-05-02  Usp_2_lead-gen-2_top4-states_050424          2024-04-05   \n",
       "5  2024-05-02  Usp_2_lead-gen-2_top4-states_050424          2024-04-05   \n",
       "6  2024-05-02  Usp_2_lead-gen-2_top4-states_050424          2024-04-05   \n",
       "7  2024-05-02      Usp study abroad_generic_240224          2024-02-24   \n",
       "8  2024-05-02  Usp_2_lead-gen-2_top4-states_050424          2024-04-05   \n",
       "9  2024-05-02              Usp_2_lead-gen-1_220124          2024-01-22   \n",
       "10 2024-05-02              Usp_2_lead-gen-1_220124          2024-01-22   \n",
       "11 2024-05-02              Usp_2_lead-gen-1_220124          2024-01-22   \n",
       "12 2024-05-02              Usp_2_lead-gen-1_220124          2024-01-22   \n",
       "13 2024-05-02      Usp study abroad_generic_240224          2024-02-24   \n",
       "14 2024-05-02      Usp study abroad_generic_240224          2024-02-24   \n",
       "15 2024-05-02      Usp study abroad_generic_240224          2024-02-24   \n",
       "16 2024-05-04              Usp_2_lead-gen-1_220124          2024-01-22   \n",
       "17 2024-05-04      Usp study abroad_generic_240224          2024-02-24   \n",
       "18 2024-05-04      Usp study abroad_generic_240224          2024-02-24   \n",
       "19 2024-05-04      Usp study abroad_generic_240224          2024-02-24   \n",
       "\n",
       "                        creative_name  total_spent  impressions  clicks  \\\n",
       "0                                  --      6766.15         1250     220   \n",
       "1    #7 ( graphic ) - get a free pass       946.38         3154       9   \n",
       "2            Usp_s3_never-been-easier       170.40         2695       8   \n",
       "3                  Usp_s4_do-you-have        55.65          577       2   \n",
       "4                 Usp_s1_we-guarantee       296.94         1466      10   \n",
       "5                  Usp_s4_do-you-have        64.11         1115       3   \n",
       "6            Usp_s3_never-been-easier       191.13         4131      11   \n",
       "7          Usp_kavita&steffi_videoad6      1201.92         3056      34   \n",
       "8   #8 ( graphic ) - study in the usa       214.40          592       4   \n",
       "9                  Usp_s4_do-you-have        14.82            8       0   \n",
       "10           Usp_s3_never-been-easier        42.96            2       2   \n",
       "11             Usp_s2_faced-rejection        39.18            3       0   \n",
       "12                Usp_s1_we-guarantee       378.32          114       3   \n",
       "13                 Usp_s4_do-you-have        87.27           58       0   \n",
       "14                Usp_s5_easy-for-you        36.15           28       1   \n",
       "15           Usp_s3_never-been-easier        18.41            2       0   \n",
       "16   State university of new york_new        22.97           44       1   \n",
       "17         Usp_kavita&steffi_videoad6      1246.20         7195      51   \n",
       "18                 Usp_s4_do-you-have        25.52            7       1   \n",
       "19                Usp_s1_we-guarantee       379.82          135      11   \n",
       "\n",
       "    click_through_rate  leads  platform  \\\n",
       "0             0.176000   25.0    Google   \n",
       "1             0.285352    1.0  Facebook   \n",
       "2             0.296846    0.0  Facebook   \n",
       "3             0.346620    0.0  Facebook   \n",
       "4             0.682128    1.0  Facebook   \n",
       "5             0.269058    0.0  Facebook   \n",
       "6             0.266279    0.0  Facebook   \n",
       "7             1.112565    6.0  Facebook   \n",
       "8             0.675676    1.0  Facebook   \n",
       "9             0.000000    0.0  Facebook   \n",
       "10          100.000000    1.0  Facebook   \n",
       "11            0.000000    0.0  Facebook   \n",
       "12            2.631579    0.0  Facebook   \n",
       "13            0.000000    0.0  Facebook   \n",
       "14            3.571429    0.0  Facebook   \n",
       "15            0.000000    0.0  Facebook   \n",
       "16            2.272727    0.0  Facebook   \n",
       "17            0.708826    0.0  Facebook   \n",
       "18           14.285714    0.0  Facebook   \n",
       "19            8.148148    4.0  Facebook   \n",
       "\n",
       "                                     adset_name  \n",
       "0                                      GMAT/GRE  \n",
       "1                            USP-2_KA_TN_050424  \n",
       "2                            USP-2_KA_TN_050424  \n",
       "3                            USP-2_KA_TN_050424  \n",
       "4                            USP-2_AP_TS_050424  \n",
       "5                            USP-2_AP_TS_050424  \n",
       "6                            USP-2_AP_TS_050424  \n",
       "7         All India Generic Leads Ad Set_240224  \n",
       "8                            USP-2_AP_TS_050424  \n",
       "9   USP-2_Data_Job-title_India_exclude_KATNTSAP  \n",
       "10  USP-2_Data_Job-title_India_exclude_KATNTSAP  \n",
       "11  USP-2_Data_Job-title_India_exclude_KATNTSAP  \n",
       "12  USP-2_Data_Job-title_India_exclude_KATNTSAP  \n",
       "13        All India Generic Leads Ad Set_240224  \n",
       "14        All India Generic Leads Ad Set_240224  \n",
       "15        All India Generic Leads Ad Set_240224  \n",
       "16  USP-2_Data_Job-title_India_exclude_KATNTSAP  \n",
       "17      All India focusing on Uni Ad Set_060324  \n",
       "18     All India Counselling Look-a-like_290224  \n",
       "19     All India Counselling Look-a-like_290224  "
      ]
     },
     "execution_count": 5,
     "metadata": {},
     "output_type": "execute_result"
    }
   ],
   "source": [
    "df1['creative_name'] = df1['creative_name'].str.capitalize()\n",
    "df1.head(20)\n"
   ]
  },
  {
   "cell_type": "code",
   "execution_count": 6,
   "metadata": {},
   "outputs": [],
   "source": [
    "\n",
    "df1['total_spent'] = df1['total_spent'].round(3)\n",
    "df1['click_through_rate'] = df1['click_through_rate'].round(3)"
   ]
  },
  {
   "cell_type": "code",
   "execution_count": 7,
   "metadata": {},
   "outputs": [
    {
     "data": {
      "text/html": [
       "<div>\n",
       "<style scoped>\n",
       "    .dataframe tbody tr th:only-of-type {\n",
       "        vertical-align: middle;\n",
       "    }\n",
       "\n",
       "    .dataframe tbody tr th {\n",
       "        vertical-align: top;\n",
       "    }\n",
       "\n",
       "    .dataframe thead th {\n",
       "        text-align: right;\n",
       "    }\n",
       "</style>\n",
       "<table border=\"1\" class=\"dataframe\">\n",
       "  <thead>\n",
       "    <tr style=\"text-align: right;\">\n",
       "      <th></th>\n",
       "      <th>dates</th>\n",
       "      <th>campaign_name</th>\n",
       "      <th>campaign_start_date</th>\n",
       "      <th>creative_name</th>\n",
       "      <th>total_spent</th>\n",
       "      <th>impressions</th>\n",
       "      <th>clicks</th>\n",
       "      <th>click_through_rate</th>\n",
       "      <th>leads</th>\n",
       "      <th>platform</th>\n",
       "      <th>adset_name</th>\n",
       "    </tr>\n",
       "  </thead>\n",
       "  <tbody>\n",
       "    <tr>\n",
       "      <th>0</th>\n",
       "      <td>2024-04-29</td>\n",
       "      <td>Usp_search_aptntska_250124</td>\n",
       "      <td>2024-01-25</td>\n",
       "      <td>--</td>\n",
       "      <td>6766.15</td>\n",
       "      <td>1250</td>\n",
       "      <td>220</td>\n",
       "      <td>0.176</td>\n",
       "      <td>25.0</td>\n",
       "      <td>Google</td>\n",
       "      <td>GMAT/GRE</td>\n",
       "    </tr>\n",
       "    <tr>\n",
       "      <th>1</th>\n",
       "      <td>2024-05-02</td>\n",
       "      <td>Usp_2_lead-gen-2_top4-states_050424</td>\n",
       "      <td>2024-04-05</td>\n",
       "      <td>#7 ( graphic ) - get a free pass</td>\n",
       "      <td>946.38</td>\n",
       "      <td>3154</td>\n",
       "      <td>9</td>\n",
       "      <td>0.285</td>\n",
       "      <td>1.0</td>\n",
       "      <td>Facebook</td>\n",
       "      <td>USP-2_KA_TN_050424</td>\n",
       "    </tr>\n",
       "    <tr>\n",
       "      <th>2</th>\n",
       "      <td>2024-05-02</td>\n",
       "      <td>Usp_2_lead-gen-2_top4-states_050424</td>\n",
       "      <td>2024-04-05</td>\n",
       "      <td>Usp_s3_never-been-easier</td>\n",
       "      <td>170.40</td>\n",
       "      <td>2695</td>\n",
       "      <td>8</td>\n",
       "      <td>0.297</td>\n",
       "      <td>0.0</td>\n",
       "      <td>Facebook</td>\n",
       "      <td>USP-2_KA_TN_050424</td>\n",
       "    </tr>\n",
       "    <tr>\n",
       "      <th>3</th>\n",
       "      <td>2024-05-02</td>\n",
       "      <td>Usp_2_lead-gen-2_top4-states_050424</td>\n",
       "      <td>2024-04-05</td>\n",
       "      <td>Usp_s4_do-you-have</td>\n",
       "      <td>55.65</td>\n",
       "      <td>577</td>\n",
       "      <td>2</td>\n",
       "      <td>0.347</td>\n",
       "      <td>0.0</td>\n",
       "      <td>Facebook</td>\n",
       "      <td>USP-2_KA_TN_050424</td>\n",
       "    </tr>\n",
       "    <tr>\n",
       "      <th>4</th>\n",
       "      <td>2024-05-02</td>\n",
       "      <td>Usp_2_lead-gen-2_top4-states_050424</td>\n",
       "      <td>2024-04-05</td>\n",
       "      <td>Usp_s1_we-guarantee</td>\n",
       "      <td>296.94</td>\n",
       "      <td>1466</td>\n",
       "      <td>10</td>\n",
       "      <td>0.682</td>\n",
       "      <td>1.0</td>\n",
       "      <td>Facebook</td>\n",
       "      <td>USP-2_AP_TS_050424</td>\n",
       "    </tr>\n",
       "    <tr>\n",
       "      <th>5</th>\n",
       "      <td>2024-05-02</td>\n",
       "      <td>Usp_2_lead-gen-2_top4-states_050424</td>\n",
       "      <td>2024-04-05</td>\n",
       "      <td>Usp_s4_do-you-have</td>\n",
       "      <td>64.11</td>\n",
       "      <td>1115</td>\n",
       "      <td>3</td>\n",
       "      <td>0.269</td>\n",
       "      <td>0.0</td>\n",
       "      <td>Facebook</td>\n",
       "      <td>USP-2_AP_TS_050424</td>\n",
       "    </tr>\n",
       "    <tr>\n",
       "      <th>6</th>\n",
       "      <td>2024-05-02</td>\n",
       "      <td>Usp_2_lead-gen-2_top4-states_050424</td>\n",
       "      <td>2024-04-05</td>\n",
       "      <td>Usp_s3_never-been-easier</td>\n",
       "      <td>191.13</td>\n",
       "      <td>4131</td>\n",
       "      <td>11</td>\n",
       "      <td>0.266</td>\n",
       "      <td>0.0</td>\n",
       "      <td>Facebook</td>\n",
       "      <td>USP-2_AP_TS_050424</td>\n",
       "    </tr>\n",
       "    <tr>\n",
       "      <th>7</th>\n",
       "      <td>2024-05-02</td>\n",
       "      <td>Usp study abroad_generic_240224</td>\n",
       "      <td>2024-02-24</td>\n",
       "      <td>Usp_kavita&amp;steffi_videoad6</td>\n",
       "      <td>1201.92</td>\n",
       "      <td>3056</td>\n",
       "      <td>34</td>\n",
       "      <td>1.113</td>\n",
       "      <td>6.0</td>\n",
       "      <td>Facebook</td>\n",
       "      <td>All India Generic Leads Ad Set_240224</td>\n",
       "    </tr>\n",
       "    <tr>\n",
       "      <th>8</th>\n",
       "      <td>2024-05-02</td>\n",
       "      <td>Usp_2_lead-gen-2_top4-states_050424</td>\n",
       "      <td>2024-04-05</td>\n",
       "      <td>#8 ( graphic ) - study in the usa</td>\n",
       "      <td>214.40</td>\n",
       "      <td>592</td>\n",
       "      <td>4</td>\n",
       "      <td>0.676</td>\n",
       "      <td>1.0</td>\n",
       "      <td>Facebook</td>\n",
       "      <td>USP-2_AP_TS_050424</td>\n",
       "    </tr>\n",
       "    <tr>\n",
       "      <th>9</th>\n",
       "      <td>2024-05-02</td>\n",
       "      <td>Usp_2_lead-gen-1_220124</td>\n",
       "      <td>2024-01-22</td>\n",
       "      <td>Usp_s4_do-you-have</td>\n",
       "      <td>14.82</td>\n",
       "      <td>8</td>\n",
       "      <td>0</td>\n",
       "      <td>0.000</td>\n",
       "      <td>0.0</td>\n",
       "      <td>Facebook</td>\n",
       "      <td>USP-2_Data_Job-title_India_exclude_KATNTSAP</td>\n",
       "    </tr>\n",
       "    <tr>\n",
       "      <th>10</th>\n",
       "      <td>2024-05-02</td>\n",
       "      <td>Usp_2_lead-gen-1_220124</td>\n",
       "      <td>2024-01-22</td>\n",
       "      <td>Usp_s3_never-been-easier</td>\n",
       "      <td>42.96</td>\n",
       "      <td>2</td>\n",
       "      <td>2</td>\n",
       "      <td>100.000</td>\n",
       "      <td>1.0</td>\n",
       "      <td>Facebook</td>\n",
       "      <td>USP-2_Data_Job-title_India_exclude_KATNTSAP</td>\n",
       "    </tr>\n",
       "    <tr>\n",
       "      <th>11</th>\n",
       "      <td>2024-05-02</td>\n",
       "      <td>Usp_2_lead-gen-1_220124</td>\n",
       "      <td>2024-01-22</td>\n",
       "      <td>Usp_s2_faced-rejection</td>\n",
       "      <td>39.18</td>\n",
       "      <td>3</td>\n",
       "      <td>0</td>\n",
       "      <td>0.000</td>\n",
       "      <td>0.0</td>\n",
       "      <td>Facebook</td>\n",
       "      <td>USP-2_Data_Job-title_India_exclude_KATNTSAP</td>\n",
       "    </tr>\n",
       "    <tr>\n",
       "      <th>12</th>\n",
       "      <td>2024-05-02</td>\n",
       "      <td>Usp_2_lead-gen-1_220124</td>\n",
       "      <td>2024-01-22</td>\n",
       "      <td>Usp_s1_we-guarantee</td>\n",
       "      <td>378.32</td>\n",
       "      <td>114</td>\n",
       "      <td>3</td>\n",
       "      <td>2.632</td>\n",
       "      <td>0.0</td>\n",
       "      <td>Facebook</td>\n",
       "      <td>USP-2_Data_Job-title_India_exclude_KATNTSAP</td>\n",
       "    </tr>\n",
       "    <tr>\n",
       "      <th>13</th>\n",
       "      <td>2024-05-02</td>\n",
       "      <td>Usp study abroad_generic_240224</td>\n",
       "      <td>2024-02-24</td>\n",
       "      <td>Usp_s4_do-you-have</td>\n",
       "      <td>87.27</td>\n",
       "      <td>58</td>\n",
       "      <td>0</td>\n",
       "      <td>0.000</td>\n",
       "      <td>0.0</td>\n",
       "      <td>Facebook</td>\n",
       "      <td>All India Generic Leads Ad Set_240224</td>\n",
       "    </tr>\n",
       "    <tr>\n",
       "      <th>14</th>\n",
       "      <td>2024-05-02</td>\n",
       "      <td>Usp study abroad_generic_240224</td>\n",
       "      <td>2024-02-24</td>\n",
       "      <td>Usp_s5_easy-for-you</td>\n",
       "      <td>36.15</td>\n",
       "      <td>28</td>\n",
       "      <td>1</td>\n",
       "      <td>3.571</td>\n",
       "      <td>0.0</td>\n",
       "      <td>Facebook</td>\n",
       "      <td>All India Generic Leads Ad Set_240224</td>\n",
       "    </tr>\n",
       "    <tr>\n",
       "      <th>15</th>\n",
       "      <td>2024-05-02</td>\n",
       "      <td>Usp study abroad_generic_240224</td>\n",
       "      <td>2024-02-24</td>\n",
       "      <td>Usp_s3_never-been-easier</td>\n",
       "      <td>18.41</td>\n",
       "      <td>2</td>\n",
       "      <td>0</td>\n",
       "      <td>0.000</td>\n",
       "      <td>0.0</td>\n",
       "      <td>Facebook</td>\n",
       "      <td>All India Generic Leads Ad Set_240224</td>\n",
       "    </tr>\n",
       "    <tr>\n",
       "      <th>16</th>\n",
       "      <td>2024-05-04</td>\n",
       "      <td>Usp_2_lead-gen-1_220124</td>\n",
       "      <td>2024-01-22</td>\n",
       "      <td>State university of new york_new</td>\n",
       "      <td>22.97</td>\n",
       "      <td>44</td>\n",
       "      <td>1</td>\n",
       "      <td>2.273</td>\n",
       "      <td>0.0</td>\n",
       "      <td>Facebook</td>\n",
       "      <td>USP-2_Data_Job-title_India_exclude_KATNTSAP</td>\n",
       "    </tr>\n",
       "    <tr>\n",
       "      <th>17</th>\n",
       "      <td>2024-05-04</td>\n",
       "      <td>Usp study abroad_generic_240224</td>\n",
       "      <td>2024-02-24</td>\n",
       "      <td>Usp_kavita&amp;steffi_videoad6</td>\n",
       "      <td>1246.20</td>\n",
       "      <td>7195</td>\n",
       "      <td>51</td>\n",
       "      <td>0.709</td>\n",
       "      <td>0.0</td>\n",
       "      <td>Facebook</td>\n",
       "      <td>All India focusing on Uni Ad Set_060324</td>\n",
       "    </tr>\n",
       "    <tr>\n",
       "      <th>18</th>\n",
       "      <td>2024-05-04</td>\n",
       "      <td>Usp study abroad_generic_240224</td>\n",
       "      <td>2024-02-24</td>\n",
       "      <td>Usp_s4_do-you-have</td>\n",
       "      <td>25.52</td>\n",
       "      <td>7</td>\n",
       "      <td>1</td>\n",
       "      <td>14.286</td>\n",
       "      <td>0.0</td>\n",
       "      <td>Facebook</td>\n",
       "      <td>All India Counselling Look-a-like_290224</td>\n",
       "    </tr>\n",
       "    <tr>\n",
       "      <th>19</th>\n",
       "      <td>2024-05-04</td>\n",
       "      <td>Usp study abroad_generic_240224</td>\n",
       "      <td>2024-02-24</td>\n",
       "      <td>Usp_s1_we-guarantee</td>\n",
       "      <td>379.82</td>\n",
       "      <td>135</td>\n",
       "      <td>11</td>\n",
       "      <td>8.148</td>\n",
       "      <td>4.0</td>\n",
       "      <td>Facebook</td>\n",
       "      <td>All India Counselling Look-a-like_290224</td>\n",
       "    </tr>\n",
       "  </tbody>\n",
       "</table>\n",
       "</div>"
      ],
      "text/plain": [
       "        dates                        campaign_name campaign_start_date  \\\n",
       "0  2024-04-29           Usp_search_aptntska_250124          2024-01-25   \n",
       "1  2024-05-02  Usp_2_lead-gen-2_top4-states_050424          2024-04-05   \n",
       "2  2024-05-02  Usp_2_lead-gen-2_top4-states_050424          2024-04-05   \n",
       "3  2024-05-02  Usp_2_lead-gen-2_top4-states_050424          2024-04-05   \n",
       "4  2024-05-02  Usp_2_lead-gen-2_top4-states_050424          2024-04-05   \n",
       "5  2024-05-02  Usp_2_lead-gen-2_top4-states_050424          2024-04-05   \n",
       "6  2024-05-02  Usp_2_lead-gen-2_top4-states_050424          2024-04-05   \n",
       "7  2024-05-02      Usp study abroad_generic_240224          2024-02-24   \n",
       "8  2024-05-02  Usp_2_lead-gen-2_top4-states_050424          2024-04-05   \n",
       "9  2024-05-02              Usp_2_lead-gen-1_220124          2024-01-22   \n",
       "10 2024-05-02              Usp_2_lead-gen-1_220124          2024-01-22   \n",
       "11 2024-05-02              Usp_2_lead-gen-1_220124          2024-01-22   \n",
       "12 2024-05-02              Usp_2_lead-gen-1_220124          2024-01-22   \n",
       "13 2024-05-02      Usp study abroad_generic_240224          2024-02-24   \n",
       "14 2024-05-02      Usp study abroad_generic_240224          2024-02-24   \n",
       "15 2024-05-02      Usp study abroad_generic_240224          2024-02-24   \n",
       "16 2024-05-04              Usp_2_lead-gen-1_220124          2024-01-22   \n",
       "17 2024-05-04      Usp study abroad_generic_240224          2024-02-24   \n",
       "18 2024-05-04      Usp study abroad_generic_240224          2024-02-24   \n",
       "19 2024-05-04      Usp study abroad_generic_240224          2024-02-24   \n",
       "\n",
       "                        creative_name  total_spent  impressions  clicks  \\\n",
       "0                                  --      6766.15         1250     220   \n",
       "1    #7 ( graphic ) - get a free pass       946.38         3154       9   \n",
       "2            Usp_s3_never-been-easier       170.40         2695       8   \n",
       "3                  Usp_s4_do-you-have        55.65          577       2   \n",
       "4                 Usp_s1_we-guarantee       296.94         1466      10   \n",
       "5                  Usp_s4_do-you-have        64.11         1115       3   \n",
       "6            Usp_s3_never-been-easier       191.13         4131      11   \n",
       "7          Usp_kavita&steffi_videoad6      1201.92         3056      34   \n",
       "8   #8 ( graphic ) - study in the usa       214.40          592       4   \n",
       "9                  Usp_s4_do-you-have        14.82            8       0   \n",
       "10           Usp_s3_never-been-easier        42.96            2       2   \n",
       "11             Usp_s2_faced-rejection        39.18            3       0   \n",
       "12                Usp_s1_we-guarantee       378.32          114       3   \n",
       "13                 Usp_s4_do-you-have        87.27           58       0   \n",
       "14                Usp_s5_easy-for-you        36.15           28       1   \n",
       "15           Usp_s3_never-been-easier        18.41            2       0   \n",
       "16   State university of new york_new        22.97           44       1   \n",
       "17         Usp_kavita&steffi_videoad6      1246.20         7195      51   \n",
       "18                 Usp_s4_do-you-have        25.52            7       1   \n",
       "19                Usp_s1_we-guarantee       379.82          135      11   \n",
       "\n",
       "    click_through_rate  leads  platform  \\\n",
       "0                0.176   25.0    Google   \n",
       "1                0.285    1.0  Facebook   \n",
       "2                0.297    0.0  Facebook   \n",
       "3                0.347    0.0  Facebook   \n",
       "4                0.682    1.0  Facebook   \n",
       "5                0.269    0.0  Facebook   \n",
       "6                0.266    0.0  Facebook   \n",
       "7                1.113    6.0  Facebook   \n",
       "8                0.676    1.0  Facebook   \n",
       "9                0.000    0.0  Facebook   \n",
       "10             100.000    1.0  Facebook   \n",
       "11               0.000    0.0  Facebook   \n",
       "12               2.632    0.0  Facebook   \n",
       "13               0.000    0.0  Facebook   \n",
       "14               3.571    0.0  Facebook   \n",
       "15               0.000    0.0  Facebook   \n",
       "16               2.273    0.0  Facebook   \n",
       "17               0.709    0.0  Facebook   \n",
       "18              14.286    0.0  Facebook   \n",
       "19               8.148    4.0  Facebook   \n",
       "\n",
       "                                     adset_name  \n",
       "0                                      GMAT/GRE  \n",
       "1                            USP-2_KA_TN_050424  \n",
       "2                            USP-2_KA_TN_050424  \n",
       "3                            USP-2_KA_TN_050424  \n",
       "4                            USP-2_AP_TS_050424  \n",
       "5                            USP-2_AP_TS_050424  \n",
       "6                            USP-2_AP_TS_050424  \n",
       "7         All India Generic Leads Ad Set_240224  \n",
       "8                            USP-2_AP_TS_050424  \n",
       "9   USP-2_Data_Job-title_India_exclude_KATNTSAP  \n",
       "10  USP-2_Data_Job-title_India_exclude_KATNTSAP  \n",
       "11  USP-2_Data_Job-title_India_exclude_KATNTSAP  \n",
       "12  USP-2_Data_Job-title_India_exclude_KATNTSAP  \n",
       "13        All India Generic Leads Ad Set_240224  \n",
       "14        All India Generic Leads Ad Set_240224  \n",
       "15        All India Generic Leads Ad Set_240224  \n",
       "16  USP-2_Data_Job-title_India_exclude_KATNTSAP  \n",
       "17      All India focusing on Uni Ad Set_060324  \n",
       "18     All India Counselling Look-a-like_290224  \n",
       "19     All India Counselling Look-a-like_290224  "
      ]
     },
     "execution_count": 7,
     "metadata": {},
     "output_type": "execute_result"
    }
   ],
   "source": [
    "df1.head(20)"
   ]
  },
  {
   "cell_type": "code",
   "execution_count": 8,
   "metadata": {},
   "outputs": [
    {
     "data": {
      "text/html": [
       "<div>\n",
       "<style scoped>\n",
       "    .dataframe tbody tr th:only-of-type {\n",
       "        vertical-align: middle;\n",
       "    }\n",
       "\n",
       "    .dataframe tbody tr th {\n",
       "        vertical-align: top;\n",
       "    }\n",
       "\n",
       "    .dataframe thead th {\n",
       "        text-align: right;\n",
       "    }\n",
       "</style>\n",
       "<table border=\"1\" class=\"dataframe\">\n",
       "  <thead>\n",
       "    <tr style=\"text-align: right;\">\n",
       "      <th></th>\n",
       "      <th>dates</th>\n",
       "      <th>campaign_name</th>\n",
       "      <th>campaign_start_date</th>\n",
       "      <th>creative_name</th>\n",
       "      <th>total_spent</th>\n",
       "      <th>impressions</th>\n",
       "      <th>clicks</th>\n",
       "      <th>click_through_rate</th>\n",
       "      <th>leads</th>\n",
       "      <th>platform</th>\n",
       "      <th>adset_name</th>\n",
       "    </tr>\n",
       "  </thead>\n",
       "  <tbody>\n",
       "    <tr>\n",
       "      <th>0</th>\n",
       "      <td>2024-04-29</td>\n",
       "      <td>Usp_search_aptntska_250124</td>\n",
       "      <td>2024-01-25</td>\n",
       "      <td>--</td>\n",
       "      <td>6766.15</td>\n",
       "      <td>1250</td>\n",
       "      <td>220</td>\n",
       "      <td>0.176</td>\n",
       "      <td>25.0</td>\n",
       "      <td>Google</td>\n",
       "      <td>GMAT/GRE</td>\n",
       "    </tr>\n",
       "    <tr>\n",
       "      <th>1</th>\n",
       "      <td>2024-05-02</td>\n",
       "      <td>Usp_2_lead-gen-2_top4-states_050424</td>\n",
       "      <td>2024-04-05</td>\n",
       "      <td>#7 ( graphic ) - get a free pass</td>\n",
       "      <td>946.38</td>\n",
       "      <td>3154</td>\n",
       "      <td>9</td>\n",
       "      <td>0.285</td>\n",
       "      <td>1.0</td>\n",
       "      <td>Facebook</td>\n",
       "      <td>USP-2_KA_TN_050424</td>\n",
       "    </tr>\n",
       "    <tr>\n",
       "      <th>2</th>\n",
       "      <td>2024-05-02</td>\n",
       "      <td>Usp_2_lead-gen-2_top4-states_050424</td>\n",
       "      <td>2024-04-05</td>\n",
       "      <td>Usp_s3_never-been-easier</td>\n",
       "      <td>170.40</td>\n",
       "      <td>2695</td>\n",
       "      <td>8</td>\n",
       "      <td>0.297</td>\n",
       "      <td>0.0</td>\n",
       "      <td>Facebook</td>\n",
       "      <td>USP-2_KA_TN_050424</td>\n",
       "    </tr>\n",
       "    <tr>\n",
       "      <th>3</th>\n",
       "      <td>2024-05-02</td>\n",
       "      <td>Usp_2_lead-gen-2_top4-states_050424</td>\n",
       "      <td>2024-04-05</td>\n",
       "      <td>Usp_s4_do-you-have</td>\n",
       "      <td>55.65</td>\n",
       "      <td>577</td>\n",
       "      <td>2</td>\n",
       "      <td>0.347</td>\n",
       "      <td>0.0</td>\n",
       "      <td>Facebook</td>\n",
       "      <td>USP-2_KA_TN_050424</td>\n",
       "    </tr>\n",
       "    <tr>\n",
       "      <th>4</th>\n",
       "      <td>2024-05-02</td>\n",
       "      <td>Usp_2_lead-gen-2_top4-states_050424</td>\n",
       "      <td>2024-04-05</td>\n",
       "      <td>Usp_s1_we-guarantee</td>\n",
       "      <td>296.94</td>\n",
       "      <td>1466</td>\n",
       "      <td>10</td>\n",
       "      <td>0.682</td>\n",
       "      <td>1.0</td>\n",
       "      <td>Facebook</td>\n",
       "      <td>USP-2_AP_TS_050424</td>\n",
       "    </tr>\n",
       "    <tr>\n",
       "      <th>5</th>\n",
       "      <td>2024-05-02</td>\n",
       "      <td>Usp_2_lead-gen-2_top4-states_050424</td>\n",
       "      <td>2024-04-05</td>\n",
       "      <td>Usp_s4_do-you-have</td>\n",
       "      <td>64.11</td>\n",
       "      <td>1115</td>\n",
       "      <td>3</td>\n",
       "      <td>0.269</td>\n",
       "      <td>0.0</td>\n",
       "      <td>Facebook</td>\n",
       "      <td>USP-2_AP_TS_050424</td>\n",
       "    </tr>\n",
       "    <tr>\n",
       "      <th>6</th>\n",
       "      <td>2024-05-02</td>\n",
       "      <td>Usp_2_lead-gen-2_top4-states_050424</td>\n",
       "      <td>2024-04-05</td>\n",
       "      <td>Usp_s3_never-been-easier</td>\n",
       "      <td>191.13</td>\n",
       "      <td>4131</td>\n",
       "      <td>11</td>\n",
       "      <td>0.266</td>\n",
       "      <td>0.0</td>\n",
       "      <td>Facebook</td>\n",
       "      <td>USP-2_AP_TS_050424</td>\n",
       "    </tr>\n",
       "    <tr>\n",
       "      <th>7</th>\n",
       "      <td>2024-05-02</td>\n",
       "      <td>Usp study abroad_generic_240224</td>\n",
       "      <td>2024-02-24</td>\n",
       "      <td>Usp_kavita&amp;steffi_videoad6</td>\n",
       "      <td>1201.92</td>\n",
       "      <td>3056</td>\n",
       "      <td>34</td>\n",
       "      <td>1.113</td>\n",
       "      <td>6.0</td>\n",
       "      <td>Facebook</td>\n",
       "      <td>All India Generic Leads Ad Set_240224</td>\n",
       "    </tr>\n",
       "    <tr>\n",
       "      <th>8</th>\n",
       "      <td>2024-05-02</td>\n",
       "      <td>Usp_2_lead-gen-2_top4-states_050424</td>\n",
       "      <td>2024-04-05</td>\n",
       "      <td>#8 ( graphic ) - study in the usa</td>\n",
       "      <td>214.40</td>\n",
       "      <td>592</td>\n",
       "      <td>4</td>\n",
       "      <td>0.676</td>\n",
       "      <td>1.0</td>\n",
       "      <td>Facebook</td>\n",
       "      <td>USP-2_AP_TS_050424</td>\n",
       "    </tr>\n",
       "    <tr>\n",
       "      <th>9</th>\n",
       "      <td>2024-05-02</td>\n",
       "      <td>Usp_2_lead-gen-1_220124</td>\n",
       "      <td>2024-01-22</td>\n",
       "      <td>Usp_s4_do-you-have</td>\n",
       "      <td>14.82</td>\n",
       "      <td>8</td>\n",
       "      <td>0</td>\n",
       "      <td>0.000</td>\n",
       "      <td>0.0</td>\n",
       "      <td>Facebook</td>\n",
       "      <td>USP-2_Data_Job-title_India_exclude_KATNTSAP</td>\n",
       "    </tr>\n",
       "    <tr>\n",
       "      <th>10</th>\n",
       "      <td>2024-05-02</td>\n",
       "      <td>Usp_2_lead-gen-1_220124</td>\n",
       "      <td>2024-01-22</td>\n",
       "      <td>Usp_s3_never-been-easier</td>\n",
       "      <td>42.96</td>\n",
       "      <td>2</td>\n",
       "      <td>2</td>\n",
       "      <td>100.000</td>\n",
       "      <td>1.0</td>\n",
       "      <td>Facebook</td>\n",
       "      <td>USP-2_Data_Job-title_India_exclude_KATNTSAP</td>\n",
       "    </tr>\n",
       "    <tr>\n",
       "      <th>11</th>\n",
       "      <td>2024-05-02</td>\n",
       "      <td>Usp_2_lead-gen-1_220124</td>\n",
       "      <td>2024-01-22</td>\n",
       "      <td>Usp_s2_faced-rejection</td>\n",
       "      <td>39.18</td>\n",
       "      <td>3</td>\n",
       "      <td>0</td>\n",
       "      <td>0.000</td>\n",
       "      <td>0.0</td>\n",
       "      <td>Facebook</td>\n",
       "      <td>USP-2_Data_Job-title_India_exclude_KATNTSAP</td>\n",
       "    </tr>\n",
       "    <tr>\n",
       "      <th>12</th>\n",
       "      <td>2024-05-02</td>\n",
       "      <td>Usp_2_lead-gen-1_220124</td>\n",
       "      <td>2024-01-22</td>\n",
       "      <td>Usp_s1_we-guarantee</td>\n",
       "      <td>378.32</td>\n",
       "      <td>114</td>\n",
       "      <td>3</td>\n",
       "      <td>2.632</td>\n",
       "      <td>0.0</td>\n",
       "      <td>Facebook</td>\n",
       "      <td>USP-2_Data_Job-title_India_exclude_KATNTSAP</td>\n",
       "    </tr>\n",
       "    <tr>\n",
       "      <th>13</th>\n",
       "      <td>2024-05-02</td>\n",
       "      <td>Usp study abroad_generic_240224</td>\n",
       "      <td>2024-02-24</td>\n",
       "      <td>Usp_s4_do-you-have</td>\n",
       "      <td>87.27</td>\n",
       "      <td>58</td>\n",
       "      <td>0</td>\n",
       "      <td>0.000</td>\n",
       "      <td>0.0</td>\n",
       "      <td>Facebook</td>\n",
       "      <td>All India Generic Leads Ad Set_240224</td>\n",
       "    </tr>\n",
       "    <tr>\n",
       "      <th>14</th>\n",
       "      <td>2024-05-02</td>\n",
       "      <td>Usp study abroad_generic_240224</td>\n",
       "      <td>2024-02-24</td>\n",
       "      <td>Usp_s5_easy-for-you</td>\n",
       "      <td>36.15</td>\n",
       "      <td>28</td>\n",
       "      <td>1</td>\n",
       "      <td>3.571</td>\n",
       "      <td>0.0</td>\n",
       "      <td>Facebook</td>\n",
       "      <td>All India Generic Leads Ad Set_240224</td>\n",
       "    </tr>\n",
       "    <tr>\n",
       "      <th>15</th>\n",
       "      <td>2024-05-02</td>\n",
       "      <td>Usp study abroad_generic_240224</td>\n",
       "      <td>2024-02-24</td>\n",
       "      <td>Usp_s3_never-been-easier</td>\n",
       "      <td>18.41</td>\n",
       "      <td>2</td>\n",
       "      <td>0</td>\n",
       "      <td>0.000</td>\n",
       "      <td>0.0</td>\n",
       "      <td>Facebook</td>\n",
       "      <td>All India Generic Leads Ad Set_240224</td>\n",
       "    </tr>\n",
       "    <tr>\n",
       "      <th>16</th>\n",
       "      <td>2024-05-04</td>\n",
       "      <td>Usp_2_lead-gen-1_220124</td>\n",
       "      <td>2024-01-22</td>\n",
       "      <td>State university of new york_new</td>\n",
       "      <td>22.97</td>\n",
       "      <td>44</td>\n",
       "      <td>1</td>\n",
       "      <td>2.273</td>\n",
       "      <td>0.0</td>\n",
       "      <td>Facebook</td>\n",
       "      <td>USP-2_Data_Job-title_India_exclude_KATNTSAP</td>\n",
       "    </tr>\n",
       "    <tr>\n",
       "      <th>17</th>\n",
       "      <td>2024-05-04</td>\n",
       "      <td>Usp study abroad_generic_240224</td>\n",
       "      <td>2024-02-24</td>\n",
       "      <td>Usp_kavita&amp;steffi_videoad6</td>\n",
       "      <td>1246.20</td>\n",
       "      <td>7195</td>\n",
       "      <td>51</td>\n",
       "      <td>0.709</td>\n",
       "      <td>0.0</td>\n",
       "      <td>Facebook</td>\n",
       "      <td>All India focusing on Uni Ad Set_060324</td>\n",
       "    </tr>\n",
       "    <tr>\n",
       "      <th>18</th>\n",
       "      <td>2024-05-04</td>\n",
       "      <td>Usp study abroad_generic_240224</td>\n",
       "      <td>2024-02-24</td>\n",
       "      <td>Usp_s4_do-you-have</td>\n",
       "      <td>25.52</td>\n",
       "      <td>7</td>\n",
       "      <td>1</td>\n",
       "      <td>14.286</td>\n",
       "      <td>0.0</td>\n",
       "      <td>Facebook</td>\n",
       "      <td>All India Counselling Look-a-like_290224</td>\n",
       "    </tr>\n",
       "    <tr>\n",
       "      <th>19</th>\n",
       "      <td>2024-05-04</td>\n",
       "      <td>Usp study abroad_generic_240224</td>\n",
       "      <td>2024-02-24</td>\n",
       "      <td>Usp_s1_we-guarantee</td>\n",
       "      <td>379.82</td>\n",
       "      <td>135</td>\n",
       "      <td>11</td>\n",
       "      <td>8.148</td>\n",
       "      <td>4.0</td>\n",
       "      <td>Facebook</td>\n",
       "      <td>All India Counselling Look-a-like_290224</td>\n",
       "    </tr>\n",
       "  </tbody>\n",
       "</table>\n",
       "</div>"
      ],
      "text/plain": [
       "        dates                        campaign_name campaign_start_date  \\\n",
       "0  2024-04-29           Usp_search_aptntska_250124          2024-01-25   \n",
       "1  2024-05-02  Usp_2_lead-gen-2_top4-states_050424          2024-04-05   \n",
       "2  2024-05-02  Usp_2_lead-gen-2_top4-states_050424          2024-04-05   \n",
       "3  2024-05-02  Usp_2_lead-gen-2_top4-states_050424          2024-04-05   \n",
       "4  2024-05-02  Usp_2_lead-gen-2_top4-states_050424          2024-04-05   \n",
       "5  2024-05-02  Usp_2_lead-gen-2_top4-states_050424          2024-04-05   \n",
       "6  2024-05-02  Usp_2_lead-gen-2_top4-states_050424          2024-04-05   \n",
       "7  2024-05-02      Usp study abroad_generic_240224          2024-02-24   \n",
       "8  2024-05-02  Usp_2_lead-gen-2_top4-states_050424          2024-04-05   \n",
       "9  2024-05-02              Usp_2_lead-gen-1_220124          2024-01-22   \n",
       "10 2024-05-02              Usp_2_lead-gen-1_220124          2024-01-22   \n",
       "11 2024-05-02              Usp_2_lead-gen-1_220124          2024-01-22   \n",
       "12 2024-05-02              Usp_2_lead-gen-1_220124          2024-01-22   \n",
       "13 2024-05-02      Usp study abroad_generic_240224          2024-02-24   \n",
       "14 2024-05-02      Usp study abroad_generic_240224          2024-02-24   \n",
       "15 2024-05-02      Usp study abroad_generic_240224          2024-02-24   \n",
       "16 2024-05-04              Usp_2_lead-gen-1_220124          2024-01-22   \n",
       "17 2024-05-04      Usp study abroad_generic_240224          2024-02-24   \n",
       "18 2024-05-04      Usp study abroad_generic_240224          2024-02-24   \n",
       "19 2024-05-04      Usp study abroad_generic_240224          2024-02-24   \n",
       "\n",
       "                        creative_name  total_spent  impressions  clicks  \\\n",
       "0                                  --      6766.15         1250     220   \n",
       "1    #7 ( graphic ) - get a free pass       946.38         3154       9   \n",
       "2            Usp_s3_never-been-easier       170.40         2695       8   \n",
       "3                  Usp_s4_do-you-have        55.65          577       2   \n",
       "4                 Usp_s1_we-guarantee       296.94         1466      10   \n",
       "5                  Usp_s4_do-you-have        64.11         1115       3   \n",
       "6            Usp_s3_never-been-easier       191.13         4131      11   \n",
       "7          Usp_kavita&steffi_videoad6      1201.92         3056      34   \n",
       "8   #8 ( graphic ) - study in the usa       214.40          592       4   \n",
       "9                  Usp_s4_do-you-have        14.82            8       0   \n",
       "10           Usp_s3_never-been-easier        42.96            2       2   \n",
       "11             Usp_s2_faced-rejection        39.18            3       0   \n",
       "12                Usp_s1_we-guarantee       378.32          114       3   \n",
       "13                 Usp_s4_do-you-have        87.27           58       0   \n",
       "14                Usp_s5_easy-for-you        36.15           28       1   \n",
       "15           Usp_s3_never-been-easier        18.41            2       0   \n",
       "16   State university of new york_new        22.97           44       1   \n",
       "17         Usp_kavita&steffi_videoad6      1246.20         7195      51   \n",
       "18                 Usp_s4_do-you-have        25.52            7       1   \n",
       "19                Usp_s1_we-guarantee       379.82          135      11   \n",
       "\n",
       "    click_through_rate  leads  platform  \\\n",
       "0                0.176   25.0    Google   \n",
       "1                0.285    1.0  Facebook   \n",
       "2                0.297    0.0  Facebook   \n",
       "3                0.347    0.0  Facebook   \n",
       "4                0.682    1.0  Facebook   \n",
       "5                0.269    0.0  Facebook   \n",
       "6                0.266    0.0  Facebook   \n",
       "7                1.113    6.0  Facebook   \n",
       "8                0.676    1.0  Facebook   \n",
       "9                0.000    0.0  Facebook   \n",
       "10             100.000    1.0  Facebook   \n",
       "11               0.000    0.0  Facebook   \n",
       "12               2.632    0.0  Facebook   \n",
       "13               0.000    0.0  Facebook   \n",
       "14               3.571    0.0  Facebook   \n",
       "15               0.000    0.0  Facebook   \n",
       "16               2.273    0.0  Facebook   \n",
       "17               0.709    0.0  Facebook   \n",
       "18              14.286    0.0  Facebook   \n",
       "19               8.148    4.0  Facebook   \n",
       "\n",
       "                                     adset_name  \n",
       "0                                      GMAT/GRE  \n",
       "1                            USP-2_KA_TN_050424  \n",
       "2                            USP-2_KA_TN_050424  \n",
       "3                            USP-2_KA_TN_050424  \n",
       "4                            USP-2_AP_TS_050424  \n",
       "5                            USP-2_AP_TS_050424  \n",
       "6                            USP-2_AP_TS_050424  \n",
       "7         All India Generic Leads Ad Set_240224  \n",
       "8                            USP-2_AP_TS_050424  \n",
       "9   USP-2_Data_Job-title_India_exclude_KATNTSAP  \n",
       "10  USP-2_Data_Job-title_India_exclude_KATNTSAP  \n",
       "11  USP-2_Data_Job-title_India_exclude_KATNTSAP  \n",
       "12  USP-2_Data_Job-title_India_exclude_KATNTSAP  \n",
       "13        All India Generic Leads Ad Set_240224  \n",
       "14        All India Generic Leads Ad Set_240224  \n",
       "15        All India Generic Leads Ad Set_240224  \n",
       "16  USP-2_Data_Job-title_India_exclude_KATNTSAP  \n",
       "17      All India focusing on Uni Ad Set_060324  \n",
       "18     All India Counselling Look-a-like_290224  \n",
       "19     All India Counselling Look-a-like_290224  "
      ]
     },
     "execution_count": 8,
     "metadata": {},
     "output_type": "execute_result"
    }
   ],
   "source": [
    "filtered_df = df1[df1['campaign_start_date'].notna()]\n",
    "filtered_df.head(20)\n"
   ]
  },
  {
   "cell_type": "code",
   "execution_count": 9,
   "metadata": {},
   "outputs": [
    {
     "data": {
      "text/html": [
       "<div>\n",
       "<style scoped>\n",
       "    .dataframe tbody tr th:only-of-type {\n",
       "        vertical-align: middle;\n",
       "    }\n",
       "\n",
       "    .dataframe tbody tr th {\n",
       "        vertical-align: top;\n",
       "    }\n",
       "\n",
       "    .dataframe thead th {\n",
       "        text-align: right;\n",
       "    }\n",
       "</style>\n",
       "<table border=\"1\" class=\"dataframe\">\n",
       "  <thead>\n",
       "    <tr style=\"text-align: right;\">\n",
       "      <th></th>\n",
       "      <th>dates</th>\n",
       "      <th>campaign_name</th>\n",
       "      <th>campaign_start_date</th>\n",
       "      <th>creative_name</th>\n",
       "      <th>total_spent</th>\n",
       "      <th>impressions</th>\n",
       "      <th>clicks</th>\n",
       "      <th>click_through_rate</th>\n",
       "      <th>leads</th>\n",
       "      <th>platform</th>\n",
       "      <th>adset_name</th>\n",
       "    </tr>\n",
       "  </thead>\n",
       "  <tbody>\n",
       "    <tr>\n",
       "      <th>0</th>\n",
       "      <td>2024-04-29</td>\n",
       "      <td>Usp_search_aptntska_250124</td>\n",
       "      <td>2024-01-25</td>\n",
       "      <td>--</td>\n",
       "      <td>6766.15</td>\n",
       "      <td>1250</td>\n",
       "      <td>220</td>\n",
       "      <td>0.176</td>\n",
       "      <td>25.0</td>\n",
       "      <td>Google</td>\n",
       "      <td>GMAT/GRE</td>\n",
       "    </tr>\n",
       "    <tr>\n",
       "      <th>1</th>\n",
       "      <td>2024-05-02</td>\n",
       "      <td>Usp_2_lead-gen-2_top4-states_050424</td>\n",
       "      <td>2024-04-05</td>\n",
       "      <td>#7 ( graphic ) - get a free pass</td>\n",
       "      <td>946.38</td>\n",
       "      <td>3154</td>\n",
       "      <td>9</td>\n",
       "      <td>0.285</td>\n",
       "      <td>1.0</td>\n",
       "      <td>Facebook</td>\n",
       "      <td>USP-2_KA_TN_050424</td>\n",
       "    </tr>\n",
       "    <tr>\n",
       "      <th>2</th>\n",
       "      <td>2024-05-02</td>\n",
       "      <td>Usp_2_lead-gen-2_top4-states_050424</td>\n",
       "      <td>2024-04-05</td>\n",
       "      <td>Usp_s3_never-been-easier</td>\n",
       "      <td>170.40</td>\n",
       "      <td>2695</td>\n",
       "      <td>8</td>\n",
       "      <td>0.297</td>\n",
       "      <td>0.0</td>\n",
       "      <td>Facebook</td>\n",
       "      <td>USP-2_KA_TN_050424</td>\n",
       "    </tr>\n",
       "    <tr>\n",
       "      <th>3</th>\n",
       "      <td>2024-05-02</td>\n",
       "      <td>Usp_2_lead-gen-2_top4-states_050424</td>\n",
       "      <td>2024-04-05</td>\n",
       "      <td>Usp_s4_do-you-have</td>\n",
       "      <td>55.65</td>\n",
       "      <td>577</td>\n",
       "      <td>2</td>\n",
       "      <td>0.347</td>\n",
       "      <td>0.0</td>\n",
       "      <td>Facebook</td>\n",
       "      <td>USP-2_KA_TN_050424</td>\n",
       "    </tr>\n",
       "    <tr>\n",
       "      <th>4</th>\n",
       "      <td>2024-05-02</td>\n",
       "      <td>Usp_2_lead-gen-2_top4-states_050424</td>\n",
       "      <td>2024-04-05</td>\n",
       "      <td>Usp_s1_we-guarantee</td>\n",
       "      <td>296.94</td>\n",
       "      <td>1466</td>\n",
       "      <td>10</td>\n",
       "      <td>0.682</td>\n",
       "      <td>1.0</td>\n",
       "      <td>Facebook</td>\n",
       "      <td>USP-2_AP_TS_050424</td>\n",
       "    </tr>\n",
       "    <tr>\n",
       "      <th>5</th>\n",
       "      <td>2024-05-02</td>\n",
       "      <td>Usp_2_lead-gen-2_top4-states_050424</td>\n",
       "      <td>2024-04-05</td>\n",
       "      <td>Usp_s4_do-you-have</td>\n",
       "      <td>64.11</td>\n",
       "      <td>1115</td>\n",
       "      <td>3</td>\n",
       "      <td>0.269</td>\n",
       "      <td>0.0</td>\n",
       "      <td>Facebook</td>\n",
       "      <td>USP-2_AP_TS_050424</td>\n",
       "    </tr>\n",
       "    <tr>\n",
       "      <th>6</th>\n",
       "      <td>2024-05-02</td>\n",
       "      <td>Usp_2_lead-gen-2_top4-states_050424</td>\n",
       "      <td>2024-04-05</td>\n",
       "      <td>Usp_s3_never-been-easier</td>\n",
       "      <td>191.13</td>\n",
       "      <td>4131</td>\n",
       "      <td>11</td>\n",
       "      <td>0.266</td>\n",
       "      <td>0.0</td>\n",
       "      <td>Facebook</td>\n",
       "      <td>USP-2_AP_TS_050424</td>\n",
       "    </tr>\n",
       "    <tr>\n",
       "      <th>7</th>\n",
       "      <td>2024-05-02</td>\n",
       "      <td>Usp study abroad_generic_240224</td>\n",
       "      <td>2024-02-24</td>\n",
       "      <td>Usp_kavita&amp;steffi_videoad6</td>\n",
       "      <td>1201.92</td>\n",
       "      <td>3056</td>\n",
       "      <td>34</td>\n",
       "      <td>1.113</td>\n",
       "      <td>6.0</td>\n",
       "      <td>Facebook</td>\n",
       "      <td>ALL INDIA GENERIC LEADS AD SET_240224</td>\n",
       "    </tr>\n",
       "    <tr>\n",
       "      <th>8</th>\n",
       "      <td>2024-05-02</td>\n",
       "      <td>Usp_2_lead-gen-2_top4-states_050424</td>\n",
       "      <td>2024-04-05</td>\n",
       "      <td>#8 ( graphic ) - study in the usa</td>\n",
       "      <td>214.40</td>\n",
       "      <td>592</td>\n",
       "      <td>4</td>\n",
       "      <td>0.676</td>\n",
       "      <td>1.0</td>\n",
       "      <td>Facebook</td>\n",
       "      <td>USP-2_AP_TS_050424</td>\n",
       "    </tr>\n",
       "    <tr>\n",
       "      <th>9</th>\n",
       "      <td>2024-05-02</td>\n",
       "      <td>Usp_2_lead-gen-1_220124</td>\n",
       "      <td>2024-01-22</td>\n",
       "      <td>Usp_s4_do-you-have</td>\n",
       "      <td>14.82</td>\n",
       "      <td>8</td>\n",
       "      <td>0</td>\n",
       "      <td>0.000</td>\n",
       "      <td>0.0</td>\n",
       "      <td>Facebook</td>\n",
       "      <td>USP-2_DATA_JOB-TITLE_INDIA_EXCLUDE_KATNTSAP</td>\n",
       "    </tr>\n",
       "    <tr>\n",
       "      <th>10</th>\n",
       "      <td>2024-05-02</td>\n",
       "      <td>Usp_2_lead-gen-1_220124</td>\n",
       "      <td>2024-01-22</td>\n",
       "      <td>Usp_s3_never-been-easier</td>\n",
       "      <td>42.96</td>\n",
       "      <td>2</td>\n",
       "      <td>2</td>\n",
       "      <td>100.000</td>\n",
       "      <td>1.0</td>\n",
       "      <td>Facebook</td>\n",
       "      <td>USP-2_DATA_JOB-TITLE_INDIA_EXCLUDE_KATNTSAP</td>\n",
       "    </tr>\n",
       "    <tr>\n",
       "      <th>11</th>\n",
       "      <td>2024-05-02</td>\n",
       "      <td>Usp_2_lead-gen-1_220124</td>\n",
       "      <td>2024-01-22</td>\n",
       "      <td>Usp_s2_faced-rejection</td>\n",
       "      <td>39.18</td>\n",
       "      <td>3</td>\n",
       "      <td>0</td>\n",
       "      <td>0.000</td>\n",
       "      <td>0.0</td>\n",
       "      <td>Facebook</td>\n",
       "      <td>USP-2_DATA_JOB-TITLE_INDIA_EXCLUDE_KATNTSAP</td>\n",
       "    </tr>\n",
       "    <tr>\n",
       "      <th>12</th>\n",
       "      <td>2024-05-02</td>\n",
       "      <td>Usp_2_lead-gen-1_220124</td>\n",
       "      <td>2024-01-22</td>\n",
       "      <td>Usp_s1_we-guarantee</td>\n",
       "      <td>378.32</td>\n",
       "      <td>114</td>\n",
       "      <td>3</td>\n",
       "      <td>2.632</td>\n",
       "      <td>0.0</td>\n",
       "      <td>Facebook</td>\n",
       "      <td>USP-2_DATA_JOB-TITLE_INDIA_EXCLUDE_KATNTSAP</td>\n",
       "    </tr>\n",
       "    <tr>\n",
       "      <th>13</th>\n",
       "      <td>2024-05-02</td>\n",
       "      <td>Usp study abroad_generic_240224</td>\n",
       "      <td>2024-02-24</td>\n",
       "      <td>Usp_s4_do-you-have</td>\n",
       "      <td>87.27</td>\n",
       "      <td>58</td>\n",
       "      <td>0</td>\n",
       "      <td>0.000</td>\n",
       "      <td>0.0</td>\n",
       "      <td>Facebook</td>\n",
       "      <td>ALL INDIA GENERIC LEADS AD SET_240224</td>\n",
       "    </tr>\n",
       "    <tr>\n",
       "      <th>14</th>\n",
       "      <td>2024-05-02</td>\n",
       "      <td>Usp study abroad_generic_240224</td>\n",
       "      <td>2024-02-24</td>\n",
       "      <td>Usp_s5_easy-for-you</td>\n",
       "      <td>36.15</td>\n",
       "      <td>28</td>\n",
       "      <td>1</td>\n",
       "      <td>3.571</td>\n",
       "      <td>0.0</td>\n",
       "      <td>Facebook</td>\n",
       "      <td>ALL INDIA GENERIC LEADS AD SET_240224</td>\n",
       "    </tr>\n",
       "    <tr>\n",
       "      <th>15</th>\n",
       "      <td>2024-05-02</td>\n",
       "      <td>Usp study abroad_generic_240224</td>\n",
       "      <td>2024-02-24</td>\n",
       "      <td>Usp_s3_never-been-easier</td>\n",
       "      <td>18.41</td>\n",
       "      <td>2</td>\n",
       "      <td>0</td>\n",
       "      <td>0.000</td>\n",
       "      <td>0.0</td>\n",
       "      <td>Facebook</td>\n",
       "      <td>ALL INDIA GENERIC LEADS AD SET_240224</td>\n",
       "    </tr>\n",
       "    <tr>\n",
       "      <th>16</th>\n",
       "      <td>2024-05-04</td>\n",
       "      <td>Usp_2_lead-gen-1_220124</td>\n",
       "      <td>2024-01-22</td>\n",
       "      <td>State university of new york_new</td>\n",
       "      <td>22.97</td>\n",
       "      <td>44</td>\n",
       "      <td>1</td>\n",
       "      <td>2.273</td>\n",
       "      <td>0.0</td>\n",
       "      <td>Facebook</td>\n",
       "      <td>USP-2_DATA_JOB-TITLE_INDIA_EXCLUDE_KATNTSAP</td>\n",
       "    </tr>\n",
       "    <tr>\n",
       "      <th>17</th>\n",
       "      <td>2024-05-04</td>\n",
       "      <td>Usp study abroad_generic_240224</td>\n",
       "      <td>2024-02-24</td>\n",
       "      <td>Usp_kavita&amp;steffi_videoad6</td>\n",
       "      <td>1246.20</td>\n",
       "      <td>7195</td>\n",
       "      <td>51</td>\n",
       "      <td>0.709</td>\n",
       "      <td>0.0</td>\n",
       "      <td>Facebook</td>\n",
       "      <td>ALL INDIA FOCUSING ON UNI AD SET_060324</td>\n",
       "    </tr>\n",
       "    <tr>\n",
       "      <th>18</th>\n",
       "      <td>2024-05-04</td>\n",
       "      <td>Usp study abroad_generic_240224</td>\n",
       "      <td>2024-02-24</td>\n",
       "      <td>Usp_s4_do-you-have</td>\n",
       "      <td>25.52</td>\n",
       "      <td>7</td>\n",
       "      <td>1</td>\n",
       "      <td>14.286</td>\n",
       "      <td>0.0</td>\n",
       "      <td>Facebook</td>\n",
       "      <td>ALL INDIA COUNSELLING LOOK-A-LIKE_290224</td>\n",
       "    </tr>\n",
       "    <tr>\n",
       "      <th>19</th>\n",
       "      <td>2024-05-04</td>\n",
       "      <td>Usp study abroad_generic_240224</td>\n",
       "      <td>2024-02-24</td>\n",
       "      <td>Usp_s1_we-guarantee</td>\n",
       "      <td>379.82</td>\n",
       "      <td>135</td>\n",
       "      <td>11</td>\n",
       "      <td>8.148</td>\n",
       "      <td>4.0</td>\n",
       "      <td>Facebook</td>\n",
       "      <td>ALL INDIA COUNSELLING LOOK-A-LIKE_290224</td>\n",
       "    </tr>\n",
       "  </tbody>\n",
       "</table>\n",
       "</div>"
      ],
      "text/plain": [
       "        dates                        campaign_name campaign_start_date  \\\n",
       "0  2024-04-29           Usp_search_aptntska_250124          2024-01-25   \n",
       "1  2024-05-02  Usp_2_lead-gen-2_top4-states_050424          2024-04-05   \n",
       "2  2024-05-02  Usp_2_lead-gen-2_top4-states_050424          2024-04-05   \n",
       "3  2024-05-02  Usp_2_lead-gen-2_top4-states_050424          2024-04-05   \n",
       "4  2024-05-02  Usp_2_lead-gen-2_top4-states_050424          2024-04-05   \n",
       "5  2024-05-02  Usp_2_lead-gen-2_top4-states_050424          2024-04-05   \n",
       "6  2024-05-02  Usp_2_lead-gen-2_top4-states_050424          2024-04-05   \n",
       "7  2024-05-02      Usp study abroad_generic_240224          2024-02-24   \n",
       "8  2024-05-02  Usp_2_lead-gen-2_top4-states_050424          2024-04-05   \n",
       "9  2024-05-02              Usp_2_lead-gen-1_220124          2024-01-22   \n",
       "10 2024-05-02              Usp_2_lead-gen-1_220124          2024-01-22   \n",
       "11 2024-05-02              Usp_2_lead-gen-1_220124          2024-01-22   \n",
       "12 2024-05-02              Usp_2_lead-gen-1_220124          2024-01-22   \n",
       "13 2024-05-02      Usp study abroad_generic_240224          2024-02-24   \n",
       "14 2024-05-02      Usp study abroad_generic_240224          2024-02-24   \n",
       "15 2024-05-02      Usp study abroad_generic_240224          2024-02-24   \n",
       "16 2024-05-04              Usp_2_lead-gen-1_220124          2024-01-22   \n",
       "17 2024-05-04      Usp study abroad_generic_240224          2024-02-24   \n",
       "18 2024-05-04      Usp study abroad_generic_240224          2024-02-24   \n",
       "19 2024-05-04      Usp study abroad_generic_240224          2024-02-24   \n",
       "\n",
       "                        creative_name  total_spent  impressions  clicks  \\\n",
       "0                                  --      6766.15         1250     220   \n",
       "1    #7 ( graphic ) - get a free pass       946.38         3154       9   \n",
       "2            Usp_s3_never-been-easier       170.40         2695       8   \n",
       "3                  Usp_s4_do-you-have        55.65          577       2   \n",
       "4                 Usp_s1_we-guarantee       296.94         1466      10   \n",
       "5                  Usp_s4_do-you-have        64.11         1115       3   \n",
       "6            Usp_s3_never-been-easier       191.13         4131      11   \n",
       "7          Usp_kavita&steffi_videoad6      1201.92         3056      34   \n",
       "8   #8 ( graphic ) - study in the usa       214.40          592       4   \n",
       "9                  Usp_s4_do-you-have        14.82            8       0   \n",
       "10           Usp_s3_never-been-easier        42.96            2       2   \n",
       "11             Usp_s2_faced-rejection        39.18            3       0   \n",
       "12                Usp_s1_we-guarantee       378.32          114       3   \n",
       "13                 Usp_s4_do-you-have        87.27           58       0   \n",
       "14                Usp_s5_easy-for-you        36.15           28       1   \n",
       "15           Usp_s3_never-been-easier        18.41            2       0   \n",
       "16   State university of new york_new        22.97           44       1   \n",
       "17         Usp_kavita&steffi_videoad6      1246.20         7195      51   \n",
       "18                 Usp_s4_do-you-have        25.52            7       1   \n",
       "19                Usp_s1_we-guarantee       379.82          135      11   \n",
       "\n",
       "    click_through_rate  leads  platform  \\\n",
       "0                0.176   25.0    Google   \n",
       "1                0.285    1.0  Facebook   \n",
       "2                0.297    0.0  Facebook   \n",
       "3                0.347    0.0  Facebook   \n",
       "4                0.682    1.0  Facebook   \n",
       "5                0.269    0.0  Facebook   \n",
       "6                0.266    0.0  Facebook   \n",
       "7                1.113    6.0  Facebook   \n",
       "8                0.676    1.0  Facebook   \n",
       "9                0.000    0.0  Facebook   \n",
       "10             100.000    1.0  Facebook   \n",
       "11               0.000    0.0  Facebook   \n",
       "12               2.632    0.0  Facebook   \n",
       "13               0.000    0.0  Facebook   \n",
       "14               3.571    0.0  Facebook   \n",
       "15               0.000    0.0  Facebook   \n",
       "16               2.273    0.0  Facebook   \n",
       "17               0.709    0.0  Facebook   \n",
       "18              14.286    0.0  Facebook   \n",
       "19               8.148    4.0  Facebook   \n",
       "\n",
       "                                     adset_name  \n",
       "0                                      GMAT/GRE  \n",
       "1                            USP-2_KA_TN_050424  \n",
       "2                            USP-2_KA_TN_050424  \n",
       "3                            USP-2_KA_TN_050424  \n",
       "4                            USP-2_AP_TS_050424  \n",
       "5                            USP-2_AP_TS_050424  \n",
       "6                            USP-2_AP_TS_050424  \n",
       "7         ALL INDIA GENERIC LEADS AD SET_240224  \n",
       "8                            USP-2_AP_TS_050424  \n",
       "9   USP-2_DATA_JOB-TITLE_INDIA_EXCLUDE_KATNTSAP  \n",
       "10  USP-2_DATA_JOB-TITLE_INDIA_EXCLUDE_KATNTSAP  \n",
       "11  USP-2_DATA_JOB-TITLE_INDIA_EXCLUDE_KATNTSAP  \n",
       "12  USP-2_DATA_JOB-TITLE_INDIA_EXCLUDE_KATNTSAP  \n",
       "13        ALL INDIA GENERIC LEADS AD SET_240224  \n",
       "14        ALL INDIA GENERIC LEADS AD SET_240224  \n",
       "15        ALL INDIA GENERIC LEADS AD SET_240224  \n",
       "16  USP-2_DATA_JOB-TITLE_INDIA_EXCLUDE_KATNTSAP  \n",
       "17      ALL INDIA FOCUSING ON UNI AD SET_060324  \n",
       "18     ALL INDIA COUNSELLING LOOK-A-LIKE_290224  \n",
       "19     ALL INDIA COUNSELLING LOOK-A-LIKE_290224  "
      ]
     },
     "execution_count": 9,
     "metadata": {},
     "output_type": "execute_result"
    }
   ],
   "source": [
    "df1['adset_name'] = df1['adset_name'].str.upper()\n",
    "df1.head(20)\n",
    "\n"
   ]
  },
  {
   "cell_type": "code",
   "execution_count": 10,
   "metadata": {},
   "outputs": [
    {
     "data": {
      "image/png": "[encoded data removed]",
      "text/plain": [
       "<Figure size 1000x600 with 1 Axes>"
      ]
     },
     "metadata": {},
     "output_type": "display_data"
    }
   ],
   "source": [
    "import pandas as pd\n",
    "import matplotlib.pyplot as plt\n",
    "import seaborn as sns\n",
    "\n",
    "\n",
    "df = df1\n",
    "\n",
    "# Select numerical columns for plotting\n",
    "numerical_columns = ['total_spent', 'impressions', 'clicks', 'click_through_rate', 'leads']\n",
    "\n",
    "\n",
    "\n",
    "# Plot box plots\n",
    "plt.figure(figsize=(10, 6))\n",
    "sns.boxplot(data=df[numerical_columns])\n",
    "plt.title('Box Plot of Numerical Variables')\n",
    "plt.xlabel('Variables')\n",
    "plt.ylabel('Values')\n",
    "plt.xticks(rotation=45)\n",
    "plt.show()\n"
   ]
  },
  {
   "cell_type": "code",
   "execution_count": 11,
   "metadata": {},
   "outputs": [],
   "source": [
    "from sklearn.preprocessing import StandardScaler\n",
    "\n",
    "scaler = StandardScaler()\n",
    "\n",
    "df[['total_spent', 'impressions', 'clicks', 'click_through_rate', 'leads']] = scaler.fit_transform(df[['total_spent', 'impressions', 'clicks', 'click_through_rate', 'leads']])"
   ]
  },
  {
   "cell_type": "code",
   "execution_count": null,
   "metadata": {},
   "outputs": [],
   "source": []
  },
  {
   "cell_type": "markdown",
   "metadata": {},
   "source": [
    "### 'clicks' Before"
   ]
  },
  {
   "cell_type": "code",
   "execution_count": 12,
   "metadata": {},
   "outputs": [
    {
     "data": {
      "text/plain": [
       "<matplotlib.collections.PathCollection at 0x2b41244f9b0>"
      ]
     },
     "execution_count": 12,
     "metadata": {},
     "output_type": "execute_result"
    },
    {
     "data": {
      "image/png": "[encoded data removed]",
      "text/plain": [
       "<Figure size 640x480 with 1 Axes>"
      ]
     },
     "metadata": {},
     "output_type": "display_data"
    }
   ],
   "source": [
    "plt.scatter(df['clicks'], df['clicks'])"
   ]
  },
  {
   "cell_type": "code",
   "execution_count": 13,
   "metadata": {},
   "outputs": [
    {
     "data": {
      "text/plain": [
       "<Axes: xlabel='clicks', ylabel='Density'>"
      ]
     },
     "execution_count": 13,
     "metadata": {},
     "output_type": "execute_result"
    },
    {
     "data": {
      "image/png": "[encoded data removed]",
      "text/plain": [
       "<Figure size 640x480 with 1 Axes>"
      ]
     },
     "metadata": {},
     "output_type": "display_data"
    }
   ],
   "source": [
    "import seaborn as sns\n",
    "sns.kdeplot(df['clicks'], fill=True)"
   ]
  },
  {
   "cell_type": "markdown",
   "metadata": {},
   "source": [
    "### 'clicks' After"
   ]
  },
  {
   "cell_type": "code",
   "execution_count": 14,
   "metadata": {},
   "outputs": [],
   "source": [
    "import numpy as np\n",
    "df['clicks'] = np.log1p(df['clicks'])\n",
    "\n"
   ]
  },
  {
   "cell_type": "code",
   "execution_count": 15,
   "metadata": {},
   "outputs": [
    {
     "data": {
      "text/plain": [
       "<matplotlib.collections.PathCollection at 0x2b4122c4950>"
      ]
     },
     "execution_count": 15,
     "metadata": {},
     "output_type": "execute_result"
    },
    {
     "data": {
      "image/png": "[encoded data removed]",
      "text/plain": [
       "<Figure size 640x480 with 1 Axes>"
      ]
     },
     "metadata": {},
     "output_type": "display_data"
    }
   ],
   "source": [
    "plt.scatter(df['clicks'], df['clicks'])"
   ]
  },
  {
   "cell_type": "code",
   "execution_count": 16,
   "metadata": {},
   "outputs": [
    {
     "data": {
      "text/plain": [
       "<Axes: xlabel='clicks', ylabel='Density'>"
      ]
     },
     "execution_count": 16,
     "metadata": {},
     "output_type": "execute_result"
    },
    {
     "data": {
      "image/png": "[encoded data removed]",
      "text/plain": [
       "<Figure size 640x480 with 1 Axes>"
      ]
     },
     "metadata": {},
     "output_type": "display_data"
    }
   ],
   "source": [
    "import seaborn as sns\n",
    "sns.kdeplot(df['clicks'], fill=True)"
   ]
  },
  {
   "cell_type": "markdown",
   "metadata": {},
   "source": [
    "### 'impressions' Before"
   ]
  },
  {
   "cell_type": "code",
   "execution_count": 17,
   "metadata": {},
   "outputs": [
    {
     "data": {
      "text/plain": [
       "<matplotlib.collections.PathCollection at 0x2b412927920>"
      ]
     },
     "execution_count": 17,
     "metadata": {},
     "output_type": "execute_result"
    },
    {
     "data": {
      "image/png": "[encoded data removed]",
      "text/plain": [
       "<Figure size 640x480 with 1 Axes>"
      ]
     },
     "metadata": {},
     "output_type": "display_data"
    }
   ],
   "source": [
    "plt.scatter(df['impressions'], df['impressions'])"
   ]
  },
  {
   "cell_type": "code",
   "execution_count": 18,
   "metadata": {},
   "outputs": [
    {
     "data": {
      "text/plain": [
       "<Axes: xlabel='impressions', ylabel='Density'>"
      ]
     },
     "execution_count": 18,
     "metadata": {},
     "output_type": "execute_result"
    },
    {
     "data": {
      "image/png": "[encoded data removed]",
      "text/plain": [
       "<Figure size 640x480 with 1 Axes>"
      ]
     },
     "metadata": {},
     "output_type": "display_data"
    }
   ],
   "source": [
    "sns.kdeplot(df['impressions'], fill=True)"
   ]
  },
  {
   "cell_type": "markdown",
   "metadata": {},
   "source": [
    "### 'impressions' After"
   ]
  },
  {
   "cell_type": "code",
   "execution_count": 19,
   "metadata": {},
   "outputs": [],
   "source": [
    "df['impressions'] = np.log1p(df['impressions'])"
   ]
  },
  {
   "cell_type": "code",
   "execution_count": 20,
   "metadata": {},
   "outputs": [
    {
     "data": {
      "text/plain": [
       "<matplotlib.collections.PathCollection at 0x2b41244faa0>"
      ]
     },
     "execution_count": 20,
     "metadata": {},
     "output_type": "execute_result"
    },
    {
     "data": {
      "image/png": "[encoded data removed]",
      "text/plain": [
       "<Figure size 640x480 with 1 Axes>"
      ]
     },
     "metadata": {},
     "output_type": "display_data"
    }
   ],
   "source": [
    "plt.scatter(df['impressions'], df['impressions'])"
   ]
  },
  {
   "cell_type": "code",
   "execution_count": 21,
   "metadata": {},
   "outputs": [
    {
     "data": {
      "text/plain": [
       "<Axes: xlabel='impressions', ylabel='Density'>"
      ]
     },
     "execution_count": 21,
     "metadata": {},
     "output_type": "execute_result"
    },
    {
     "data": {
      "image/png": "[encoded data removed]",
      "text/plain": [
       "<Figure size 640x480 with 1 Axes>"
      ]
     },
     "metadata": {},
     "output_type": "display_data"
    }
   ],
   "source": [
    "sns.kdeplot(df['impressions'], fill=True)"
   ]
  },
  {
   "cell_type": "markdown",
   "metadata": {},
   "source": [
    "### 'click_through_rate' Before"
   ]
  },
  {
   "cell_type": "code",
   "execution_count": 22,
   "metadata": {},
   "outputs": [
    {
     "data": {
      "text/plain": [
       "<matplotlib.collections.PathCollection at 0x2b412b062a0>"
      ]
     },
     "execution_count": 22,
     "metadata": {},
     "output_type": "execute_result"
    },
    {
     "data": {
      "image/png": "[encoded data removed]",
      "text/plain": [
       "<Figure size 640x480 with 1 Axes>"
      ]
     },
     "metadata": {},
     "output_type": "display_data"
    }
   ],
   "source": [
    "plt.scatter(df['click_through_rate'], df['click_through_rate'])"
   ]
  },
  {
   "cell_type": "code",
   "execution_count": 23,
   "metadata": {},
   "outputs": [
    {
     "data": {
      "text/plain": [
       "<Axes: xlabel='click_through_rate', ylabel='Density'>"
      ]
     },
     "execution_count": 23,
     "metadata": {},
     "output_type": "execute_result"
    },
    {
     "data": {
      "image/png": "[encoded data removed]",
      "text/plain": [
       "<Figure size 640x480 with 1 Axes>"
      ]
     },
     "metadata": {},
     "output_type": "display_data"
    }
   ],
   "source": [
    "sns.kdeplot(df['click_through_rate'], fill=True)"
   ]
  },
  {
   "cell_type": "markdown",
   "metadata": {},
   "source": [
    "### 'click_through_rate' After"
   ]
  },
  {
   "cell_type": "code",
   "execution_count": 24,
   "metadata": {},
   "outputs": [],
   "source": [
    "df['click_through_rate'] = np.log1p(df['click_through_rate'])"
   ]
  },
  {
   "cell_type": "code",
   "execution_count": 25,
   "metadata": {},
   "outputs": [
    {
     "data": {
      "text/plain": [
       "<matplotlib.collections.PathCollection at 0x2b412a7c230>"
      ]
     },
     "execution_count": 25,
     "metadata": {},
     "output_type": "execute_result"
    },
    {
     "data": {
      "image/png": "[encoded data removed]",
      "text/plain": [
       "<Figure size 640x480 with 1 Axes>"
      ]
     },
     "metadata": {},
     "output_type": "display_data"
    }
   ],
   "source": [
    "plt.scatter(df['click_through_rate'], df['click_through_rate'])"
   ]
  },
  {
   "cell_type": "code",
   "execution_count": 26,
   "metadata": {},
   "outputs": [
    {
     "data": {
      "text/plain": [
       "<Axes: xlabel='click_through_rate', ylabel='Density'>"
      ]
     },
     "execution_count": 26,
     "metadata": {},
     "output_type": "execute_result"
    },
    {
     "data": {
      "image/png": "[encoded data removed]",
      "text/plain": [
       "<Figure size 640x480 with 1 Axes>"
      ]
     },
     "metadata": {},
     "output_type": "display_data"
    }
   ],
   "source": [
    "sns.kdeplot(df['click_through_rate'], fill=True)"
   ]
  },
  {
   "cell_type": "markdown",
   "metadata": {},
   "source": [
    "### 'total_spent' Before"
   ]
  },
  {
   "cell_type": "code",
   "execution_count": 27,
   "metadata": {},
   "outputs": [
    {
     "data": {
      "text/plain": [
       "<matplotlib.collections.PathCollection at 0x2b412c47050>"
      ]
     },
     "execution_count": 27,
     "metadata": {},
     "output_type": "execute_result"
    },
    {
     "data": {
      "image/png": "[encoded data removed]",
      "text/plain": [
       "<Figure size 640x480 with 1 Axes>"
      ]
     },
     "metadata": {},
     "output_type": "display_data"
    }
   ],
   "source": [
    "plt.scatter(df['total_spent'], df['total_spent'])"
   ]
  },
  {
   "cell_type": "code",
   "execution_count": 28,
   "metadata": {},
   "outputs": [
    {
     "data": {
      "text/plain": [
       "<Axes: xlabel='total_spent', ylabel='Density'>"
      ]
     },
     "execution_count": 28,
     "metadata": {},
     "output_type": "execute_result"
    },
    {
     "data": {
      "image/png": "[encoded data removed]",
      "text/plain": [
       "<Figure size 640x480 with 1 Axes>"
      ]
     },
     "metadata": {},
     "output_type": "display_data"
    }
   ],
   "source": [
    "sns.kdeplot(df['total_spent'], fill=True)"
   ]
  },
  {
   "cell_type": "markdown",
   "metadata": {},
   "source": [
    "### 'total_spent' After"
   ]
  },
  {
   "cell_type": "code",
   "execution_count": 29,
   "metadata": {},
   "outputs": [],
   "source": [
    "df['total_spent'] = np.log1p(df['total_spent'])"
   ]
  },
  {
   "cell_type": "code",
   "execution_count": 30,
   "metadata": {},
   "outputs": [
    {
     "data": {
      "text/plain": [
       "<matplotlib.collections.PathCollection at 0x2b412ada540>"
      ]
     },
     "execution_count": 30,
     "metadata": {},
     "output_type": "execute_result"
    },
    {
     "data": {
      "image/png": "[encoded data removed]",
      "text/plain": [
       "<Figure size 640x480 with 1 Axes>"
      ]
     },
     "metadata": {},
     "output_type": "display_data"
    }
   ],
   "source": [
    "plt.scatter(df['total_spent'], df['total_spent'])"
   ]
  },
  {
   "cell_type": "code",
   "execution_count": 31,
   "metadata": {},
   "outputs": [
    {
     "data": {
      "text/plain": [
       "<Axes: xlabel='total_spent', ylabel='Density'>"
      ]
     },
     "execution_count": 31,
     "metadata": {},
     "output_type": "execute_result"
    },
    {
     "data": {
      "image/png": "[encoded data removed]",
      "text/plain": [
       "<Figure size 640x480 with 1 Axes>"
      ]
     },
     "metadata": {},
     "output_type": "display_data"
    }
   ],
   "source": [
    "sns.kdeplot(df['total_spent'])"
   ]
  },
  {
   "cell_type": "markdown",
   "metadata": {},
   "source": [
    "### 'total_spent' Before"
   ]
  },
  {
   "cell_type": "code",
   "execution_count": 32,
   "metadata": {},
   "outputs": [
    {
     "data": {
      "text/plain": [
       "<matplotlib.collections.PathCollection at 0x2b412904a70>"
      ]
     },
     "execution_count": 32,
     "metadata": {},
     "output_type": "execute_result"
    },
    {
     "data": {
      "image/png": "[encoded data removed]",
      "text/plain": [
       "<Figure size 640x480 with 1 Axes>"
      ]
     },
     "metadata": {},
     "output_type": "display_data"
    }
   ],
   "source": [
    "plt.scatter(df['leads'], df['leads'])"
   ]
  },
  {
   "cell_type": "code",
   "execution_count": 33,
   "metadata": {},
   "outputs": [
    {
     "data": {
      "text/plain": [
       "<Axes: xlabel='leads', ylabel='Density'>"
      ]
     },
     "execution_count": 33,
     "metadata": {},
     "output_type": "execute_result"
    },
    {
     "data": {
      "image/png": "[encoded data removed]",
      "text/plain": [
       "<Figure size 640x480 with 1 Axes>"
      ]
     },
     "metadata": {},
     "output_type": "display_data"
    }
   ],
   "source": [
    "sns.kdeplot(df['leads'], fill=True)"
   ]
  },
  {
   "cell_type": "markdown",
   "metadata": {},
   "source": [
    "### 'total_spent' After"
   ]
  },
  {
   "cell_type": "code",
   "execution_count": 34,
   "metadata": {},
   "outputs": [],
   "source": [
    "df['leads'] = np.log1p(df['leads'])"
   ]
  },
  {
   "cell_type": "code",
   "execution_count": 35,
   "metadata": {},
   "outputs": [
    {
     "data": {
      "text/plain": [
       "<matplotlib.collections.PathCollection at 0x2b412b05280>"
      ]
     },
     "execution_count": 35,
     "metadata": {},
     "output_type": "execute_result"
    },
    {
     "data": {
      "image/png": "[encoded data removed]",
      "text/plain": [
       "<Figure size 640x480 with 1 Axes>"
      ]
     },
     "metadata": {},
     "output_type": "display_data"
    }
   ],
   "source": [
    "plt.scatter(df['leads'], df['leads'])"
   ]
  },
  {
   "cell_type": "code",
   "execution_count": 36,
   "metadata": {},
   "outputs": [
    {
     "data": {
      "text/plain": [
       "<Axes: xlabel='leads', ylabel='Density'>"
      ]
     },
     "execution_count": 36,
     "metadata": {},
     "output_type": "execute_result"
    },
    {
     "data": {
      "image/png": "[encoded data removed]",
      "text/plain": [
       "<Figure size 640x480 with 1 Axes>"
      ]
     },
     "metadata": {},
     "output_type": "display_data"
    }
   ],
   "source": [
    "sns.kdeplot(df['leads'])"
   ]
  },
  {
   "cell_type": "code",
   "execution_count": 37,
   "metadata": {},
   "outputs": [
    {
     "name": "stdout",
     "output_type": "stream",
     "text": [
      "Number of outliers in 'total_spent': 723\n",
      "Number of outliers in 'impressions': 766\n",
      "Number of outliers in 'clicks': 736\n",
      "Number of outliers in 'click_through_rate': 691\n",
      "Number of outliers in 'leads': 871\n"
     ]
    }
   ],
   "source": [
    "import pandas as pd\n",
    "import numpy as np\n",
    "\n",
    "numerical_columns = ['total_spent', 'impressions', 'clicks', 'click_through_rate', 'leads']\n",
    "outliers_count = {}\n",
    "\n",
    "for col in numerical_columns:\n",
    "    z_scores = np.abs((df[col] - df[col].mean()) / df[col].std())\n",
    "    threshold = 3\n",
    "\n",
    "    outliers = df[z_scores > threshold]\n",
    "    outliers_count[col] = len(outliers)\n",
    "\n",
    "for col, count in outliers_count.items():\n",
    "    print(f\"Number of outliers in '{col}': {count}\")\n"
   ]
  }
 ],
 "metadata": {
  "kernelspec": {
   "display_name": "Python 3",
   "language": "python",
   "name": "python3"
  },
  "language_info": {
   "codemirror_mode": {
    "name": "ipython",
    "version": 3
   },
   "file_extension": ".py",
   "mimetype": "text/x-python",
   "name": "python",
   "nbconvert_exporter": "python",
   "pygments_lexer": "ipython3",
   "version": "3.12.4"
  }
 },
 "nbformat": 4,
 "nbformat_minor": 2
}
