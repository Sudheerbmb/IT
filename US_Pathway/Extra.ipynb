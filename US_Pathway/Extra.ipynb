{
 "cells": [
  {
   "cell_type": "code",
   "execution_count": 5,
   "metadata": {},
   "outputs": [
    {
     "name": "stderr",
     "output_type": "stream",
     "text": [
      "C:\\Users\\sudhe\\AppData\\Local\\Temp\\ipykernel_10468\\4255825976.py:13: FutureWarning: Setting an item of incompatible dtype is deprecated and will raise an error in a future version of pandas. Value '0' has dtype incompatible with datetime64[ns], please explicitly cast to a compatible dtype first.\n",
      "  campaign_data.fillna(0, inplace=True)\n"
     ]
    },
    {
     "name": "stdout",
     "output_type": "stream",
     "text": [
      "Mean Squared Error: 297325.3850105729\n"
     ]
    },
    {
     "ename": "ValueError",
     "evalue": "invalid literal for int() with base 10: ''",
     "output_type": "error",
     "traceback": [
      "\u001b[1;31m---------------------------------------------------------------------------\u001b[0m",
      "\u001b[1;31mValueError\u001b[0m                                Traceback (most recent call last)",
      "Cell \u001b[1;32mIn[5], line 82\u001b[0m\n\u001b[0;32m     79\u001b[0m     \u001b[38;5;28;01mreturn\u001b[39;00m predicted_spending[\u001b[38;5;241m0\u001b[39m]\n\u001b[0;32m     81\u001b[0m \u001b[38;5;66;03m# Get user input\u001b[39;00m\n\u001b[1;32m---> 82\u001b[0m user_input \u001b[38;5;241m=\u001b[39m \u001b[43mget_user_input\u001b[49m\u001b[43m(\u001b[49m\u001b[43m)\u001b[49m\n\u001b[0;32m     84\u001b[0m \u001b[38;5;66;03m# Predict spending based on user input\u001b[39;00m\n\u001b[0;32m     85\u001b[0m predicted_spending \u001b[38;5;241m=\u001b[39m predict_spending(pipeline, user_input)\n",
      "Cell \u001b[1;32mIn[5], line 52\u001b[0m, in \u001b[0;36mget_user_input\u001b[1;34m()\u001b[0m\n\u001b[0;32m     51\u001b[0m \u001b[38;5;28;01mdef\u001b[39;00m \u001b[38;5;21mget_user_input\u001b[39m():\n\u001b[1;32m---> 52\u001b[0m     impressions \u001b[38;5;241m=\u001b[39m \u001b[38;5;28;43mint\u001b[39;49m\u001b[43m(\u001b[49m\u001b[38;5;28;43minput\u001b[39;49m\u001b[43m(\u001b[49m\u001b[38;5;124;43m'\u001b[39;49m\u001b[38;5;124;43mEnter target impressions: \u001b[39;49m\u001b[38;5;124;43m'\u001b[39;49m\u001b[43m)\u001b[49m\u001b[43m)\u001b[49m\n\u001b[0;32m     53\u001b[0m     clicks \u001b[38;5;241m=\u001b[39m \u001b[38;5;28mint\u001b[39m(\u001b[38;5;28minput\u001b[39m(\u001b[38;5;124m'\u001b[39m\u001b[38;5;124mEnter target clicks: \u001b[39m\u001b[38;5;124m'\u001b[39m))\n\u001b[0;32m     54\u001b[0m     ctr \u001b[38;5;241m=\u001b[39m \u001b[38;5;28mfloat\u001b[39m(\u001b[38;5;28minput\u001b[39m(\u001b[38;5;124m'\u001b[39m\u001b[38;5;124mEnter target click-through rate (CTR): \u001b[39m\u001b[38;5;124m'\u001b[39m))\n",
      "\u001b[1;31mValueError\u001b[0m: invalid literal for int() with base 10: ''"
     ]
    }
   ],
   "source": [
    "import pandas as pd\n",
    "from sklearn.model_selection import train_test_split\n",
    "from sklearn.preprocessing import OneHotEncoder, StandardScaler\n",
    "from sklearn.compose import ColumnTransformer\n",
    "from sklearn.pipeline import Pipeline\n",
    "from sklearn.ensemble import RandomForestRegressor\n",
    "from sklearn.metrics import mean_squared_error\n",
    "\n",
    "# Load the dataset\n",
    "campaign_data = pd.read_excel(\"C:/Users/sudhe/Desktop/Internship-FUTURENSE/US_Pathway/cl_campaign.xlsx\")\n",
    "\n",
    "# Preprocessing: Handle missing values\n",
    "campaign_data.fillna(0, inplace=True)\n",
    "\n",
    "# Ensure categorical columns are strings\n",
    "campaign_data['platform'] = campaign_data['platform'].astype(str)\n",
    "campaign_data['adset_name'] = campaign_data['adset_name'].astype(str)\n",
    "\n",
    "# Extract features and target variable\n",
    "features = ['impressions', 'clicks', 'click_through_rate', 'leads', 'platform', 'adset_name']\n",
    "X = campaign_data[features]\n",
    "y = campaign_data['total_spent']\n",
    "\n",
    "# Encode categorical features and scale numerical features\n",
    "categorical_features = ['platform', 'adset_name']\n",
    "numerical_features = ['impressions', 'clicks', 'click_through_rate', 'leads']\n",
    "\n",
    "preprocessor = ColumnTransformer(\n",
    "    transformers=[\n",
    "        ('num', StandardScaler(), numerical_features),\n",
    "        ('cat', OneHotEncoder(), categorical_features)\n",
    "    ])\n",
    "\n",
    "# Create a pipeline for preprocessing and modeling\n",
    "pipeline = Pipeline(steps=[\n",
    "    ('preprocessor', preprocessor),\n",
    "    ('regressor', RandomForestRegressor())\n",
    "])\n",
    "\n",
    "# Split the data into training and testing sets\n",
    "X_train, X_test, y_train, y_test = train_test_split(X, y, test_size=0.2, random_state=42)\n",
    "\n",
    "# Train the model\n",
    "pipeline.fit(X_train, y_train)\n",
    "\n",
    "# Evaluate the model (optional)\n",
    "y_pred = pipeline.predict(X_test)\n",
    "mse = mean_squared_error(y_test, y_pred)\n",
    "print(f'Mean Squared Error: {mse}')\n",
    "\n",
    "def get_user_input():\n",
    "    impressions = int(input('Enter target impressions: '))\n",
    "    clicks = int(input('Enter target clicks: '))\n",
    "    ctr = float(input('Enter target click-through rate (CTR): '))\n",
    "    leads = int(input('Enter target leads: '))\n",
    "    platform = input('Enter target platform (e.g., Google, Facebook, LinkedIn): ')\n",
    "    adset_name = input('Enter adset name: ')\n",
    "    \n",
    "    return {\n",
    "        'impressions': impressions,\n",
    "        'clicks': clicks,\n",
    "        'ctr': ctr,\n",
    "        'leads': leads,\n",
    "        'platform': platform,\n",
    "        'adset_name': adset_name\n",
    "    }\n",
    "\n",
    "def predict_spending(pipeline, user_input):\n",
    "    input_data = pd.DataFrame({\n",
    "        'impressions': [user_input['impressions']],\n",
    "        'clicks': [user_input['clicks']],\n",
    "        'click_through_rate': [user_input['ctr']],\n",
    "        'leads': [user_input['leads']],\n",
    "        'platform': [user_input['platform']],\n",
    "        'adset_name': [user_input['adset_name']]\n",
    "    })\n",
    "    \n",
    "    predicted_spending = pipeline.predict(input_data)\n",
    "    return predicted_spending[0]\n",
    "\n",
    "# Get user input\n",
    "user_input = get_user_input()\n",
    "\n",
    "# Predict spending based on user input\n",
    "predicted_spending = predict_spending(pipeline, user_input)\n",
    "\n",
    "# Output the predicted spending\n",
    "print(f'Predicted Spending: {predicted_spending}')\n"
   ]
  },
  {
   "cell_type": "code",
   "execution_count": 9,
   "metadata": {},
   "outputs": [
    {
     "name": "stdout",
     "output_type": "stream",
     "text": [
      "Last market price: 167.0\n"
     ]
    }
   ],
   "source": [
    "import yfinance as yf\n",
    "STK = input(\"Enter share name: \")\n",
    "\n",
    "data = yf.Ticker (STK).history (period=\"1d\")\n",
    "\n",
    "last_market_price = data['Close'].iloc[-1]\n",
    "print(\"Last market price:\", last_market_price)\n",
    "\n"
   ]
  },
  {
   "cell_type": "code",
   "execution_count": 11,
   "metadata": {},
   "outputs": [
    {
     "name": "stdout",
     "output_type": "stream",
     "text": [
      "Start price 30 days ago: 185.41000366210938\n",
      "Last market price: 167.0\n",
      "Percentage change over the last 30 days: -9.929347553252688\n",
      "GOOGL has decreased by 9.93% over the last 30 days.\n"
     ]
    }
   ],
   "source": [
    "import yfinance as yf\n",
    "\n",
    "# Google's ticker symbol\n",
    "STK = 'GOOGL'\n",
    "\n",
    "# Fetch the historical market data for the last 30 days\n",
    "data = yf.Ticker(STK).history(period=\"1mo\")\n",
    "\n",
    "# Get the closing prices\n",
    "closing_prices = data['Close']\n",
    "\n",
    "# Calculate the percentage change from the first day to the last day in the 30-day period\n",
    "start_price = closing_prices.iloc[0]\n",
    "end_price = closing_prices.iloc[-1]\n",
    "percentage_change = ((end_price - start_price) / start_price) * 100\n",
    "\n",
    "print(\"Start price 30 days ago:\", start_price)\n",
    "print(\"Last market price:\", end_price)\n",
    "print(\"Percentage change over the last 30 days:\", percentage_change)\n",
    "\n",
    "if percentage_change > 0:\n",
    "    print(\"GOOGL has increased by {:.2f}% over the last 30 days.\".format(percentage_change))\n",
    "else:\n",
    "    print(\"GOOGL has decreased by {:.2f}% over the last 30 days.\".format(abs(percentage_change)))\n"
   ]
  },
  {
   "cell_type": "code",
   "execution_count": 7,
   "metadata": {},
   "outputs": [
    {
     "name": "stdout",
     "output_type": "stream",
     "text": [
      "Excel file has been converted to CSV successfully.\n"
     ]
    }
   ],
   "source": [
    "import pandas as pd\n",
    "\n",
    "# Load the Excel file\n",
    "excel_file_path = \"C:/Users/sudhe/Desktop/Internship-FUTURENSE/US_Pathway/Cleaned_Leads.xlsx\"  # Replace with your Excel file path\n",
    "sheet_name = \"Sheet1\"  # Specify the sheet name if needed\n",
    "\n",
    "# Read the Excel file\n",
    "data = pd.read_excel(excel_file_path, sheet_name=sheet_name)\n",
    "\n",
    "# Save the DataFrame to a CSV file\n",
    "csv_file_path = \"C:/Users/sudhe/Desktop/Internship-FUTURENSE/US_Pathway/Cleaned_Leads.csv\"  # Specify your desired output CSV file path\n",
    "data.to_csv(csv_file_path, index=False)\n",
    "\n",
    "print(\"Excel file has been converted to CSV successfully.\")\n"
   ]
  }
 ],
 "metadata": {
  "kernelspec": {
   "display_name": "base",
   "language": "python",
   "name": "python3"
  },
  "language_info": {
   "codemirror_mode": {
    "name": "ipython",
    "version": 3
   },
   "file_extension": ".py",
   "mimetype": "text/x-python",
   "name": "python",
   "nbconvert_exporter": "python",
   "pygments_lexer": "ipython3",
   "version": "3.12.4"
  }
 },
 "nbformat": 4,
 "nbformat_minor": 2
}
