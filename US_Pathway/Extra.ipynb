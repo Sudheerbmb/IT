{
 "cells": [
  {
   "cell_type": "code",
   "execution_count": 1,
   "metadata": {},
   "outputs": [
    {
     "name": "stdout",
     "output_type": "stream",
     "text": [
      "Sentiment: Sentiment(polarity=-0.9099999999999998, subjectivity=0.8666666666666667)\n"
     ]
    }
   ],
   "source": [
    "from textblob import TextBlob\n",
    "\n",
    "tweet = \"very very bad\"\n",
    "blob = TextBlob(tweet)\n",
    "sentiment = blob.sentiment\n",
    "\n",
    "print(f\"Sentiment: {sentiment}\")\n"
   ]
  },
  {
   "cell_type": "code",
   "execution_count": 2,
   "metadata": {},
   "outputs": [
    {
     "name": "stdout",
     "output_type": "stream",
     "text": [
      "Start price 30 days ago: 185.41000366210938\n",
      "Last market price: 167.0\n",
      "Percentage change over the last 30 days: -9.929347553252688\n",
      "GOOGL has decreased by 9.93% over the last 30 days.\n"
     ]
    }
   ],
   "source": [
    "import yfinance as yf\n",
    "\n",
    "STK = 'GOOGL'\n",
    "\n",
    "data = yf.Ticker(STK).history(period=\"1mo\")\n",
    "\n",
    "closing_prices = data['Close']\n",
    "\n",
    "start_price = closing_prices.iloc[0]\n",
    "end_price = closing_prices.iloc[-1]\n",
    "percentage_change = ((end_price - start_price) / start_price) * 100\n",
    "\n",
    "print(\"Start price 30 days ago:\", start_price)\n",
    "print(\"Last market price:\", end_price)\n",
    "print(\"Percentage change over the last 30 days:\", percentage_change)\n",
    "\n",
    "if percentage_change > 0:\n",
    "    print(\"GOOGL has increased by {:.2f}% over the last 30 days.\".format(percentage_change))\n",
    "else:\n",
    "    print(\"GOOGL has decreased by {:.2f}% over the last 30 days.\".format(abs(percentage_change)))\n"
   ]
  },
  {
   "cell_type": "code",
   "execution_count": 1,
   "metadata": {},
   "outputs": [],
   "source": [
    "# import pandas as pd\n",
    "\n",
    "# excel_file_path = \"C:/Users/sudhe/Desktop/Internship-FUTURENSE/US_Pathway/Phone Metrics.xlsx\"  \n",
    "# sheet_name = \"Sheet1\"  \n",
    "\n",
    "# data = pd.read_excel(excel_file_path, sheet_name=sheet_name)\n",
    "\n",
    "# csv_file_path = \"C:/Users/sudhe/Desktop/Internship-FUTURENSE/US_Pathway/Phone Metrics.csv\"  \n",
    "# data.to_csv(csv_file_path, index=False)\n",
    "\n",
    "# print(\"Excel file has been converted to CSV successfully.\")\n"
   ]
  }
 ],
 "metadata": {
  "kernelspec": {
   "display_name": "base",
   "language": "python",
   "name": "python3"
  },
  "language_info": {
   "codemirror_mode": {
    "name": "ipython",
    "version": 3
   },
   "file_extension": ".py",
   "mimetype": "text/x-python",
   "name": "python",
   "nbconvert_exporter": "python",
   "pygments_lexer": "ipython3",
   "version": "3.12.4"
  }
 },
 "nbformat": 4,
 "nbformat_minor": 2
}
