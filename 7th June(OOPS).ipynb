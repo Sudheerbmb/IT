{
  "nbformat": 4,
  "nbformat_minor": 0,
  "metadata": {
    "colab": {
      "provenance": [],
      "authorship_tag": "ABX9TyN/TWdqpol01Ip5fbk8HFZ4",
      "include_colab_link": true
    },
    "kernelspec": {
      "name": "python3",
      "display_name": "Python 3"
    },
    "language_info": {
      "name": "python"
    }
  },
  "cells": [
    {
      "cell_type": "markdown",
      "metadata": {
        "id": "view-in-github",
        "colab_type": "text"
      },
      "source": [
        "<a href=\"https://colab.research.google.com/github/Sudheerbmb/IT/blob/main/Day_2(OOPS).ipynb\" target=\"_parent\"><img src=\"https://colab.research.google.com/assets/colab-badge.svg\" alt=\"Open In Colab\"/></a>"
      ]
    },
    {
      "cell_type": "markdown",
      "source": [
        "# **OOPS is a concept in which real world things are imagined in such a way that every thing is an object with its dedicated properties**"
      ],
      "metadata": {
        "id": "d6VAtWoHIIF2"
      }
    },
    {
      "cell_type": "code",
      "source": [
        "\"Basic class syntax\"\n",
        "class LPU:\n",
        "  pass\n",
        "obj=LPU()"
      ],
      "metadata": {
        "id": "HpErNDZNIgTL"
      },
      "execution_count": null,
      "outputs": []
    },
    {
      "cell_type": "code",
      "source": [
        "\"Data Members\"\n",
        "#Instance Variables\n",
        "class LPU:\n",
        "  def __init__(self,x):\n",
        "    self.x=x\n",
        "LPU(10)\n",
        "print(LPU(10).x)"
      ],
      "metadata": {
        "colab": {
          "base_uri": "https://localhost:8080/"
        },
        "id": "7HmrOAHxIj2p",
        "outputId": "20729b05-f521-4d02-c505-885d996f8617"
      },
      "execution_count": 2,
      "outputs": [
        {
          "output_type": "stream",
          "name": "stdout",
          "text": [
            "10\n"
          ]
        }
      ]
    },
    {
      "cell_type": "code",
      "source": [
        "#Class Variables\n",
        "class LPU:\n",
        "  pincode=0\n",
        "  def inc(self):\n",
        "    LPU.pincode+=1\n",
        "LPU()\n",
        "LPU()\n",
        "LPU().inc()\n",
        "print(LPU.pincode)"
      ],
      "metadata": {
        "colab": {
          "base_uri": "https://localhost:8080/"
        },
        "id": "6JnktYVvJFTs",
        "outputId": "514ad513-a0ae-44e0-c360-b3fe05fd3482"
      },
      "execution_count": 5,
      "outputs": [
        {
          "output_type": "stream",
          "name": "stdout",
          "text": [
            "1\n"
          ]
        }
      ]
    },
    {
      "cell_type": "code",
      "source": [
        "\"Methods in python\"\n",
        "#Normal Methods\n",
        "class cars:\n",
        "  def pr(self):\n",
        "    print(\"Hurrah!\")\n",
        "x=cars()\n",
        "x.pr()"
      ],
      "metadata": {
        "colab": {
          "base_uri": "https://localhost:8080/"
        },
        "id": "8D6H1F63JsCk",
        "outputId": "9e9a5d68-08b4-4f46-be66-c28be3956bbe"
      },
      "execution_count": 6,
      "outputs": [
        {
          "output_type": "stream",
          "name": "stdout",
          "text": [
            "Hurrah!\n"
          ]
        }
      ]
    },
    {
      "cell_type": "code",
      "source": [
        "#Class methods (Used to manipulate class variables)\n",
        "class bank:\n",
        "  IFSC=10\n",
        "  @classmethod\n",
        "  def change(x):\n",
        "    x.IFSC+=2\n",
        "x=bank()\n",
        "x.change()\n",
        "print(bank.IFSC)"
      ],
      "metadata": {
        "colab": {
          "base_uri": "https://localhost:8080/"
        },
        "id": "9sQEFpmiJ7vn",
        "outputId": "24695e09-474b-451c-fb26-238bb00175fa"
      },
      "execution_count": 12,
      "outputs": [
        {
          "output_type": "stream",
          "name": "stdout",
          "text": [
            "12\n"
          ]
        }
      ]
    },
    {
      "cell_type": "code",
      "source": [
        "#Static Methods\n",
        "class Fruits:\n",
        "  @staticmethod\n",
        "  def tp(x):\n",
        "    print(x*25)\n",
        "Fruits.tp(100)\n"
      ],
      "metadata": {
        "colab": {
          "base_uri": "https://localhost:8080/"
        },
        "id": "mTWpuYbdKrg_",
        "outputId": "e190bdc3-05c3-42de-d979-11cafedb7859"
      },
      "execution_count": 13,
      "outputs": [
        {
          "output_type": "stream",
          "name": "stdout",
          "text": [
            "2500\n"
          ]
        }
      ]
    },
    {
      "cell_type": "code",
      "source": [
        "\"Special methods\"\n",
        "#init method(Used for initialisation)\n",
        "class LPU:\n",
        "  def __init__ (self,name,rn):\n",
        "    self.name=name\n",
        "    self.rn=rn\n",
        "    print(\"Successfully created\")\n",
        "x=LPU(\"Sudheer\",120)\n",
        "\n",
        "\n"
      ],
      "metadata": {
        "colab": {
          "base_uri": "https://localhost:8080/"
        },
        "id": "zn7ATqPzLeOo",
        "outputId": "812f906f-e8ed-4d2f-f02d-1647c0fa14c0"
      },
      "execution_count": 15,
      "outputs": [
        {
          "output_type": "stream",
          "name": "stdout",
          "text": [
            "Successfully created\n"
          ]
        }
      ]
    },
    {
      "cell_type": "code",
      "source": [
        "#str method(For string representation of object)\n",
        "class LPU:\n",
        "  def __init__ (self,name,rn):\n",
        "    self.name=name\n",
        "    self.rn=rn\n",
        "    # print(\"Successfully created\")\n",
        "  def __str__(self):\n",
        "    return f\"Created profile of {self.name} with registration number {self.rn}\"\n",
        "\n",
        "x=LPU(\"Sudheer\",120)\n",
        "print(x)\n",
        "\n",
        "\n"
      ],
      "metadata": {
        "colab": {
          "base_uri": "https://localhost:8080/"
        },
        "id": "5un01Id3M_rJ",
        "outputId": "f61794b2-2bce-4e6e-bc61-84fde969f2a4"
      },
      "execution_count": 19,
      "outputs": [
        {
          "output_type": "stream",
          "name": "stdout",
          "text": [
            "Created profile of Sudheer with registration number 120\n"
          ]
        }
      ]
    },
    {
      "cell_type": "code",
      "source": [
        "\"Constructor\"\n",
        "#Constructor with arguments\n",
        "class school:\n",
        "  def __init__(self):\n",
        "    print(\"Constructor is called\")\n",
        "a=school()\n"
      ],
      "metadata": {
        "colab": {
          "base_uri": "https://localhost:8080/"
        },
        "id": "pkWNxekcNcCm",
        "outputId": "ae84267c-1352-4a51-fcd1-6bb008ae7cf5"
      },
      "execution_count": 20,
      "outputs": [
        {
          "output_type": "stream",
          "name": "stdout",
          "text": [
            "Constructor is called\n"
          ]
        }
      ]
    },
    {
      "cell_type": "code",
      "source": [
        "#Constructor with arguments\n",
        "class school:\n",
        "  def __init__(self,name):\n",
        "    self.name=name\n",
        "a=school(\"Ajith\")\n",
        "print(a.name)\n",
        ""
      ],
      "metadata": {
        "colab": {
          "base_uri": "https://localhost:8080/"
        },
        "id": "n3-V5bphOZNv",
        "outputId": "4c7d176c-ad95-4a76-9758-1c9d9eccece8"
      },
      "execution_count": 21,
      "outputs": [
        {
          "output_type": "stream",
          "name": "stdout",
          "text": [
            "Ajith\n"
          ]
        }
      ]
    },
    {
      "cell_type": "code",
      "source": [
        "#Constructor with default arguments\n",
        "class school:\n",
        "  def __init__(self,value=100):\n",
        "    self.value=value\n",
        "a=school(10)\n",
        "b=school()\n"
      ],
      "metadata": {
        "id": "WnxpYIWMOoW5"
      },
      "execution_count": 23,
      "outputs": []
    },
    {
      "cell_type": "code",
      "source": [
        "\"Destructor\"\n",
        "class ABC:\n",
        "  def __del__(self):\n",
        "    print(\"Successfully called destructor\")\n",
        "a=ABC()\n",
        "del a\n"
      ],
      "metadata": {
        "colab": {
          "base_uri": "https://localhost:8080/"
        },
        "id": "PF1lDfneO7Lj",
        "outputId": "51d4b492-eef0-4e38-adac-5206d580e8f3"
      },
      "execution_count": 26,
      "outputs": [
        {
          "output_type": "stream",
          "name": "stdout",
          "text": [
            "Successfully called destructor\n"
          ]
        }
      ]
    },
    {
      "cell_type": "code",
      "source": [
        "#Self is used to access current instance variables and methods in a class\n",
        "\"Class properties\"\n",
        "#Encapsulation\n",
        "\"Public members\"\n",
        "class LPU:\n",
        "  def __init__(self,count):\n",
        "    self.count=count\n",
        "a=LPU(100)\n",
        "print(a.count)\n",
        "a.count=102\n",
        "print(a.count)\n",
        ""
      ],
      "metadata": {
        "colab": {
          "base_uri": "https://localhost:8080/"
        },
        "id": "8JWvyCJ1PLRW",
        "outputId": "3db481d5-4837-4067-d045-3edba464c5c1"
      },
      "execution_count": 27,
      "outputs": [
        {
          "output_type": "stream",
          "name": "stdout",
          "text": [
            "100\n",
            "102\n"
          ]
        }
      ]
    },
    {
      "cell_type": "code",
      "source": [
        "\"Private members\"\n",
        "class LPU:\n",
        "  def __init__(self,count):\n",
        "    self.__count=count\n",
        "  def change(self,x):\n",
        "    self.__count=x\n",
        "  def show(self):\n",
        "    print(self.__count)\n",
        "a=LPU(100)\n",
        "# print(a.count)\n",
        "a.show()\n",
        "a.change(1000)\n",
        "a.show()"
      ],
      "metadata": {
        "colab": {
          "base_uri": "https://localhost:8080/"
        },
        "id": "4e4Bx0vxPr7A",
        "outputId": "fbb5778c-e1d8-47a9-cd83-e0243cc7d9e1"
      },
      "execution_count": 31,
      "outputs": [
        {
          "output_type": "stream",
          "name": "stdout",
          "text": [
            "100\n",
            "1000\n"
          ]
        }
      ]
    },
    {
      "cell_type": "code",
      "source": [
        "#Inheritance\n",
        "class A:\n",
        "  def __init__(self,x):\n",
        "    self.x=x\n",
        "  def apple(self):\n",
        "    print(\"applefied\")\n",
        "class B(A):\n",
        "  def show(self):\n",
        "    print(\"Hello\")\n",
        "k=B(100)\n",
        "print(k.x)\n",
        "k.show()\n",
        "k.apple()"
      ],
      "metadata": {
        "colab": {
          "base_uri": "https://localhost:8080/"
        },
        "id": "qdleVDobQV0d",
        "outputId": "99a21676-a37b-474c-de58-7e507d1c88dd"
      },
      "execution_count": 38,
      "outputs": [
        {
          "output_type": "stream",
          "name": "stdout",
          "text": [
            "100\n",
            "Hello\n",
            "applefied\n"
          ]
        }
      ]
    },
    {
      "cell_type": "code",
      "source": [
        "#Polymorphism\n",
        "class M:\n",
        "  def sound(self):\n",
        "    pass\n",
        "class A(M):\n",
        "  def sound(self):\n",
        "    print(\"A\")\n",
        "class B(M):\n",
        "  def sound(self):\n",
        "    print(\"B\")\n",
        "class C(M):\n",
        "  def sound(self):\n",
        "    print(\"C\")\n",
        "def make(n):\n",
        "  n.sound()\n",
        "obj=A()\n",
        "obj1=B()\n",
        "make(obj)\n"
      ],
      "metadata": {
        "colab": {
          "base_uri": "https://localhost:8080/"
        },
        "id": "7BDdBz_uQ8HL",
        "outputId": "36b3f638-c1f5-4bc1-e650-ba6437c06db9"
      },
      "execution_count": 42,
      "outputs": [
        {
          "output_type": "stream",
          "name": "stdout",
          "text": [
            "A\n"
          ]
        }
      ]
    },
    {
      "cell_type": "code",
      "source": [
        "#Abstraction\n",
        "from abc import ABC,abstractmethod\n",
        "class A(ABC):\n",
        "  @abstractmethod\n",
        "  def sound(self):\n",
        "    pass\n",
        "class B(A):\n",
        "  def sound(self):\n",
        "    print(\"H\")\n",
        "class C(A):\n",
        "  def sound(self):\n",
        "    return \"C\"\n",
        "a=B()\n",
        "b=C()\n",
        "a.sound()\n",
        "print(b.sound())\n"
      ],
      "metadata": {
        "colab": {
          "base_uri": "https://localhost:8080/"
        },
        "id": "DuVHWIzaUm_k",
        "outputId": "36117038-b040-441b-a144-a60aee0fd399"
      },
      "execution_count": 44,
      "outputs": [
        {
          "output_type": "stream",
          "name": "stdout",
          "text": [
            "H\n",
            "C\n"
          ]
        }
      ]
    }
  ]
}
