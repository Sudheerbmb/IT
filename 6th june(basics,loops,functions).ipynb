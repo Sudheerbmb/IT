{
  "nbformat": 4,
  "nbformat_minor": 0,
  "metadata": {
    "colab": {
      "provenance": [],
      "authorship_tag": "ABX9TyNR2o0FUVcF/uORGkZUsW9m",
      "include_colab_link": true
    },
    "kernelspec": {
      "name": "python3",
      "display_name": "Python 3"
    },
    "language_info": {
      "name": "python"
    }
  },
  "cells": [
    {
      "cell_type": "markdown",
      "metadata": {
        "id": "view-in-github",
        "colab_type": "text"
      },
      "source": [
        "<a href=\"https://colab.research.google.com/github/Sudheerbmb/IT/blob/main/Untitled14.ipynb\" target=\"_parent\"><img src=\"https://colab.research.google.com/assets/colab-badge.svg\" alt=\"Open In Colab\"/></a>"
      ]
    },
    {
      "cell_type": "code",
      "execution_count": null,
      "metadata": {
        "id": "CBKoF4PExm4Y"
      },
      "outputs": [],
      "source": [
        "                                                               #First day of Internship\n",
        "\"Taking Input\"\n",
        "x=input(\"Enter the number: \")\n",
        "print(x)\n",
        "\"Data Types\"\n",
        "a,b,c,d,e=10,10.0,2+3j,\"Hello\",True\n",
        "\"Arithmetic operators\"\n",
        "print(a+b,a-b,a/b,a%b,sep=\"\\n\")\n",
        "\"Comparison operators\"\n",
        "print(a==b,a>=b,a<=b,a!=b,sep=\"\\n\")\n",
        "\"Usage of builtin functions in python\"\n",
        "aq=[1,2,3,4]\n",
        "print(len(aq),id(aq),type(aq),sep=\"\\t\")\n",
        "b1=(1,2,3,4)\n",
        "c1={1,2,3,4}\n",
        "\"Type casting\"\n",
        "print(int(b),float(a))\n",
        "print(set(aq))\n",
        "\"Control flow statements\"\n",
        "e,r=10,100\n",
        "if e>r:\n",
        "    print(\"e is greater\")\n",
        "else:\n",
        "    print(\"r is greater\")\n",
        "\"For Loop\"\n",
        "for i in range(0,4):\n",
        "    print(i)\n",
        "c=0\n",
        "\"While loop\"\n",
        "while(c!=9):\n",
        "    print(c)\n",
        "    c+=1\n",
        "\"Break and continue statements\"\n",
        "\n",
        "for i in aq:\n",
        "    if i==10:\n",
        "        break\n",
        "    elif i==20:\n",
        "        continue\n",
        "    else:\n",
        "        print(i)\n",
        "\n",
        "\n",
        "\"Functions\"\n",
        "def func(x):\n",
        "    print(x+2)\n",
        "func(100)\n",
        "'positional arguments'\n",
        "def func1(x,y):\n",
        "    print(x+y)\n",
        "func1(100,200)\n",
        "\n",
        "'Keyword arguments'\n",
        "def func2(x,y=\"hello\"):\n",
        "    print(x+y)\n",
        "func2(x=\"rohit\",y=\"kohli\")\n",
        "\n",
        "'default arguments'\n",
        "def func3(x=\"hello\"):\n",
        "    print(\"hi\"+x)\n",
        "func3()\n",
        "\n",
        "'variable length arguments'\n",
        "def func4(*h):\n",
        "    return sum(h)\n",
        "print(func4(1,2,3,4,5))\n",
        "print(func4(45,67))\n",
        "\n",
        "\"keyword arguments\"\n",
        "def func5(a,*,b):\n",
        "    return a/b\n",
        "print(func5(a=10,b=5))\n",
        "\n",
        "\"Higher order function\"\n",
        "def c(t):\n",
        "    return t.upper()\n",
        "def d(t):\n",
        "    return t.lower()\n",
        "def m(t,func):\n",
        "    print(func(t))\n",
        "m(\"sUdheer\",c)\n",
        "m(\"sUdheer\",d)\n",
        "\n",
        "\"Lambda function\"\n",
        "x=lambda a:a**2\n",
        "print(x(100))\n",
        "\n",
        "y=lambda a:f\"hello,{a}\"\n",
        "print(y(\"sudheer\"))\n",
        "\n",
        "\"Lambda as key for sorted\"\n",
        "a=[\"abc\",\"bfg\",\"sdjn\",\"sdfjhjfks\"]\n",
        "b=sorted(a,key=lambda b:len(b),reverse=True)\n",
        "print(b)\n",
        "\n",
        "\"map reduce filter \"\n",
        "from functools import reduce\n",
        "a=[1,2,3,4,5]\n",
        "print(list(map(lambda j:j**2,a)))\n",
        "print(list(filter(lambda a:a%2==0,a)))\n",
        "print(reduce(lambda a,b:a+b,a))\n",
        "\n",
        "\"Variables\"\n",
        "a=10\n",
        "\"global\"\n",
        "def b():\n",
        "    a=100\n",
        "    \"local\"\n",
        "    return a\n",
        "print(b()    )\n",
        "\n",
        "\"Return\"\n",
        "def add(*x):\n",
        "    return sum(x),len(x)\n",
        "print(add(100,2003,18)    )\n",
        "print(list(zip([1,2,3],[1,3,4])))"
      ]
    },
    {
      "cell_type": "code",
      "source": [
        "\"Function for area calculation\"\n",
        "def cal(s, d):\n",
        "    if s == \"rectangle\":\n",
        "        length, width = dimensions\n",
        "        return length * width\n",
        "    elif s == \"circle\":\n",
        "        radius = d\n",
        "        return 3.14 * radius ** 2\n",
        "cal(\"circle\",100)\n",
        "\n",
        "\n"
      ],
      "metadata": {
        "colab": {
          "base_uri": "https://localhost:8080/"
        },
        "id": "tPx8CPgjxply",
        "outputId": "2fb0ad7c-5fa9-4731-f80e-6f8176cd7f19"
      },
      "execution_count": null,
      "outputs": [
        {
          "output_type": "execute_result",
          "data": {
            "text/plain": [
              "31400.0"
            ]
          },
          "metadata": {},
          "execution_count": 14
        }
      ]
    },
    {
      "cell_type": "code",
      "source": [
        "\"Function for the reversal of words by maintaing the order\"\n",
        "def rev(x):\n",
        "  a=x.split()\n",
        "  b=[i[::-1] for i in a]\n",
        "  print(\" \".join(b))\n",
        "rev(\"hello hi\")"
      ],
      "metadata": {
        "colab": {
          "base_uri": "https://localhost:8080/"
        },
        "id": "-IzC79ldy3Tn",
        "outputId": "68bb4d2c-6ba8-41e7-c6d5-d83327f1431f"
      },
      "execution_count": null,
      "outputs": [
        {
          "output_type": "stream",
          "name": "stdout",
          "text": [
            "olleh ih\n"
          ]
        }
      ]
    },
    {
      "cell_type": "code",
      "source": [
        "\"Function for the calculation of statistics within a list\"\n",
        "def st(x):\n",
        "  y={}\n",
        "  y[\"Min\"]=min(x)\n",
        "  y[\"Max\"]=max(x)\n",
        "  y[\"Avg\"]=sum(x)/len(x)\n",
        "  return y\n",
        "x1=[i for i in range(10)]\n",
        "\n",
        "print(st(x1)  )\n"
      ],
      "metadata": {
        "colab": {
          "base_uri": "https://localhost:8080/"
        },
        "id": "4cM9VuHvzkRH",
        "outputId": "ed0f972c-7796-4620-ef8a-ebadb49db411"
      },
      "execution_count": null,
      "outputs": [
        {
          "output_type": "stream",
          "name": "stdout",
          "text": [
            "{'Min': 0, 'Max': 9, 'Avg': 4.5}\n"
          ]
        }
      ]
    },
    {
      "cell_type": "code",
      "source": [
        "\"Function for filtering a list with a given condition\"\n",
        "a=[\"apple\",\"mi\",\"realme\",\"oppo\",\"vivo\",\"Samsung\",\"Huawei\"]\n",
        "def func(n,l):\n",
        "  return list(filter(lambda a:len(a)<l,n))\n",
        "      # return list(filter(lambda name: len(name) < max_length, names))\n",
        "\n",
        "func(a,5)"
      ],
      "metadata": {
        "colab": {
          "base_uri": "https://localhost:8080/"
        },
        "id": "aJuF0YgZ0SqW",
        "outputId": "305c2fdd-a8e3-4ebd-e5c3-98e85707d5d1"
      },
      "execution_count": null,
      "outputs": [
        {
          "output_type": "execute_result",
          "data": {
            "text/plain": [
              "['mi', 'oppo', 'vivo']"
            ]
          },
          "metadata": {},
          "execution_count": 11
        }
      ]
    },
    {
      "cell_type": "code",
      "source": [
        "\"Counting the occurrence of each word and number of characters\"\n",
        "def analyze_text(text):\n",
        "    word_count = len(text.split())\n",
        "    char_count = len(text.replace(\" \", \"\"))\n",
        "    word_freq = {}\n",
        "    words = text.lower().split()\n",
        "    for word in words:\n",
        "        word_freq[word] = word_freq.get(word, 0) + 1\n",
        "    most_frequent_word = max(word_freq, key=word_freq.get)\n",
        "    return {'word_count': word_count, 'char_count': char_count, 'most_frequent_word': most_frequent_word}"
      ],
      "metadata": {
        "id": "JzGJmi1-14H3"
      },
      "execution_count": null,
      "outputs": []
    }
  ]
}
