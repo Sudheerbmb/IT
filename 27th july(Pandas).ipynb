{
  "nbformat": 4,
  "nbformat_minor": 0,
  "metadata": {
    "colab": {
      "provenance": [],
      "authorship_tag": "ABX9TyOn/SgyAqwreu4cR6Lhrwvk",
      "include_colab_link": true
    },
    "kernelspec": {
      "name": "python3",
      "display_name": "Python 3"
    },
    "language_info": {
      "name": "python"
    }
  },
  "cells": [
    {
      "cell_type": "markdown",
      "metadata": {
        "id": "view-in-github",
        "colab_type": "text"
      },
      "source": [
        "<a href=\"https://colab.research.google.com/github/Sudheerbmb/IT/blob/main/27th%20july(Pandas).ipynb\" target=\"_parent\"><img src=\"https://colab.research.google.com/assets/colab-badge.svg\" alt=\"Open In Colab\"/></a>"
      ]
    },
    {
      "cell_type": "code",
      "execution_count": 1,
      "metadata": {
        "colab": {
          "base_uri": "https://localhost:8080/"
        },
        "id": "vJgjlhhyG_CA",
        "outputId": "64e94549-620c-43ca-c848-377957864286"
      },
      "outputs": [
        {
          "output_type": "stream",
          "name": "stdout",
          "text": [
            "Requirement already satisfied: pandas in /usr/local/lib/python3.10/dist-packages (2.0.3)\n",
            "Requirement already satisfied: python-dateutil>=2.8.2 in /usr/local/lib/python3.10/dist-packages (from pandas) (2.8.2)\n",
            "Requirement already satisfied: pytz>=2020.1 in /usr/local/lib/python3.10/dist-packages (from pandas) (2023.4)\n",
            "Requirement already satisfied: tzdata>=2022.1 in /usr/local/lib/python3.10/dist-packages (from pandas) (2024.1)\n",
            "Requirement already satisfied: numpy>=1.21.0 in /usr/local/lib/python3.10/dist-packages (from pandas) (1.25.2)\n",
            "Requirement already satisfied: six>=1.5 in /usr/local/lib/python3.10/dist-packages (from python-dateutil>=2.8.2->pandas) (1.16.0)\n",
            "Requirement already satisfied: numpy in /usr/local/lib/python3.10/dist-packages (1.25.2)\n"
          ]
        }
      ],
      "source": [
        "!pip install pandas\n",
        "!pip install numpy\n"
      ]
    },
    {
      "cell_type": "code",
      "source": [
        "import pandas as pd\n",
        "import numpy as np\n",
        "print(\"Pandas is installed\")\n",
        "data=[10,20,30,40]\n",
        "s=pd.Series(data,index=[\"a\",\"b\",\"c\",\"d\"])\n",
        "array=np.array([1,2,3,4])\n",
        "s=pd.Series(array,index=[1,2,3,4])\n",
        "dict1={'Apple':100,\"Banana\":200,\"Cherry\":300}\n",
        "dicts=pd.Series(dict1)\n",
        "print(s.index)\n",
        "print(s.values)\n",
        "print(s.dtype)\n",
        "print(s.size)\n",
        "print(\"First two elements:\", s.head(2))\n",
        "print(\"Last two elements:\", s.tail(2))\n",
        "print(\"Sorted values:\", s.sort_values())\n",
        "print(\"Mean of the Series:\", s.mean())\n",
        "df=pd.DataFrame(data)\n",
        "print(df)\n",
        "df\n",
        "data1 = {\n",
        "    \"Customer ID\": [\"C-26247\", \"C-35067\", \"C-34590\", \"C-16668\", \"C-12196\", \"C-2600\", \"C-9047\", \"C-2206\", \"C-25607\", \"C-11606\"],\n",
        "    \"Name\": [\"Tandra Olszewski\", \"Jeannette Cha\", \"Keva Godfrey\", \"Elva Sackett\", \"Sade Constable\", \"Gina Weir\", \"Lacey Cybulski\", \"Karrie Dickison\",\n",
        "             \"Tona Wigington\", \"Hellen Alexis\"],\n",
        "    \"Gender\": [\"F\", \"F\", \"F\", \"M\", \"F\", \"F\", \"M\", \"M\", \"M\", \"F\"],\n",
        "    \"Age\": [47, 57, 52, 65, 60, 59, 43, 65, 64, 27],\n",
        "    \"Income (USD)\": [3472.69, 1184.84, 1266.27, 1369.72, 1939.23, 2944.81, 1957.31, 1403.63, 1604.65, 949.17],\n",
        "    \"Income Stability\": [\"Low\", \"Low\", \"Low\", \"High\", \"High\", \"Low\", \"Low\", \"High\", \"Low\", \"Working\"],\n",
        "    \"Profession\": [\"Commercial associate\", \"Working\", \"Working\", \"Pensioner\", \"Pensioner\", \"Working\", \"Working\", \"Pensioner\", \"Working\", \"Working\"],\n",
        "    \"Type of Employment\": [\"Managers\", \"Sales staff\", \"\", \"\", \"\", \"Sales staff\", \"Sales staff\", \"\", \"\", \"Laborers\"],\n",
        "    \"Location\": [\"Semi-Urban\", \"Rural\", \"Semi-Urban\", \"Rural\", \"Urban\", \"Semi-Urban\", \"Rural\", \"Semi-Urban\", \"Semi-Urban\", \"Rural\"],\n",
        "    \"Loan Amount Request (USD)\": [137088.98, 104771.59, 176684.91, 97009.18, 109980, 31465.78, 150334.11, 121029.27, 39475.31, 24703.89]\n",
        "}\n",
        "data2 = pd.DataFrame(data1)\n",
        "selected_columns = [\"Customer ID\", \"Name\", \"Gender\", \"Income (USD)\"]\n",
        "\n",
        "df= pd.read_csv(\"tips.csv\")\n",
        "\n",
        "df.head()\n",
        "df.info()\n",
        "df.head(5)\n",
        "df.describe()\n",
        "\n",
        "print(\"Missing values per column:\")\n",
        "df.isnull().sum()\n",
        "df.columns\n",
        "df.dtypes\n",
        "\n",
        "gender_counts = df[\"sex\"].value_counts()\n",
        "print(\"Gender Counts:\")\n",
        "print(gender_counts)\n",
        "location_counts = df[\"day\"].value_counts()\n",
        "print(\"Location Counts:\")\n",
        "print(location_counts)\n",
        "\n",
        "unique_genders = df[\"Gender\"].unique()\n",
        "print(\"Unique Genders:\")\n",
        "print(unique_genders)\n",
        "\n",
        "# Get the unique values in the \"Location\" column\n",
        "unique_locations = df[\"Location\"].unique()\n",
        "print(\"Unique Locations:\")\n",
        "print(unique_locations)\n",
        "correlation_matrix = data2.corr()\n",
        "\n",
        "print(\"Correlation Matrix:\")\n",
        "print(correlation_matrix)\n",
        "\n",
        "z=pd.read_csv(\"tips.csv\")\n",
        "\n",
        "\n",
        "\n",
        "\n",
        "\n",
        "\n",
        "\n"
      ],
      "metadata": {
        "id": "DXLAhIQOHLEF"
      },
      "execution_count": null,
      "outputs": []
    }
  ]
}