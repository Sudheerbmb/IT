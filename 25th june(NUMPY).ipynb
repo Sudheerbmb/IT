{
 "cells": [
  {
   "cell_type": "code",
   "execution_count": 2,
   "id": "b00b3914-c51d-497a-b035-f59945cd62d7",
   "metadata": {},
   "outputs": [
    {
     "name": "stdout",
     "output_type": "stream",
     "text": [
      "Requirement already satisfied: numpy in c:\\users\\sudhe\\anaconda3\\lib\\site-packages (1.26.4)\n",
      "Note: you may need to restart the kernel to use updated packages.\n"
     ]
    }
   ],
   "source": [
    "pip install numpy"
   ]
  },
  {
   "cell_type": "code",
   "execution_count": 2,
   "id": "5b4b0bdd-fdc9-498a-9242-11ac6b314a0c",
   "metadata": {},
   "outputs": [
    {
     "name": "stdout",
     "output_type": "stream",
     "text": [
      "Hello\n"
     ]
    }
   ],
   "source": [
    "print(\"Hello\")"
   ]
  },
  {
   "cell_type": "code",
   "execution_count": 4,
   "id": "2ab582a2-cd23-4b61-bf5c-f7a67940793a",
   "metadata": {},
   "outputs": [
    {
     "name": "stdout",
     "output_type": "stream",
     "text": [
      "1.26.4\n"
     ]
    }
   ],
   "source": [
    "import numpy as np\n",
    "print(np.__version__)"
   ]
  },
  {
   "cell_type": "code",
   "execution_count": 10,
   "id": "30e9ed11-f13a-448b-bd7c-028c56b3dc1a",
   "metadata": {},
   "outputs": [
    {
     "name": "stdout",
     "output_type": "stream",
     "text": [
      "(5,)\n",
      "(3, 3)\n"
     ]
    }
   ],
   "source": [
    "a=np.array([1,2,3,4,5])\n",
    "print(a.shape)\n",
    "b=np.array([[1,2,3],[4,5,6],[7,8,9]])\n",
    "print(b.shape)\n",
    "c=np.array([[[1,2,3],["
   ]
  },
  {
   "cell_type": "code",
   "execution_count": 20,
   "id": "b6e8cabb-4450-499c-8982-169909b9775c",
   "metadata": {},
   "outputs": [
    {
     "name": "stdout",
     "output_type": "stream",
     "text": [
      "(2, 2, 3)\n"
     ]
    }
   ],
   "source": [
    "d=np.array([[[1,2,3],[4,5,6]],[[100,200,300],[400,500,600]]])\n",
    "print(d.shape)"
   ]
  },
  {
   "cell_type": "code",
   "execution_count": 26,
   "id": "605471a2-9a8a-44c1-a48f-2dc6a87cfa50",
   "metadata": {},
   "outputs": [
    {
     "name": "stdout",
     "output_type": "stream",
     "text": [
      "int32\n",
      "bool\n",
      "complex128\n"
     ]
    }
   ],
   "source": [
    "a=np.array([1,2,3,4])\n",
    "b=np.array([True,False])\n",
    "c=np.array([1+2j,2+4j])\n",
    "for i in [a,b,c]:\n",
    "    print(i.dtype)"
   ]
  },
  {
   "cell_type": "code",
   "execution_count": 28,
   "id": "e368c02c-76ba-4faa-ac2d-b2ccc8f43553",
   "metadata": {},
   "outputs": [
    {
     "name": "stdout",
     "output_type": "stream",
     "text": [
      "[1. 2. 3.] float32\n"
     ]
    }
   ],
   "source": [
    "#Specifying the datatype\n",
    "a=np.array([1,2,3],dtype=np.float32)\n",
    "print(a,a.dtype)\n"
   ]
  },
  {
   "cell_type": "code",
   "execution_count": 32,
   "id": "fcc6487a-1f61-4139-a255-18abb7d77ed6",
   "metadata": {},
   "outputs": [
    {
     "name": "stdout",
     "output_type": "stream",
     "text": [
      "[1 2 3] [1 2 3]\n"
     ]
    }
   ],
   "source": [
    "c=[1,2,3]\n",
    "a=np.array(c)\n",
    "b=np.asarray(c)\n",
    "print(a,b)"
   ]
  },
  {
   "cell_type": "code",
   "execution_count": 40,
   "id": "b7e1b493-d6ba-4c58-9ec1-94b1e3b8fc9c",
   "metadata": {},
   "outputs": [
    {
     "name": "stdout",
     "output_type": "stream",
     "text": [
      "[[1. 1. 1.]\n",
      " [1. 1. 1.]\n",
      " [1. 1. 1.]] [[0. 0. 0. 0. 0. 0. 0. 0. 0. 0.]\n",
      " [0. 0. 0. 0. 0. 0. 0. 0. 0. 0.]\n",
      " [0. 0. 0. 0. 0. 0. 0. 0. 0. 0.]\n",
      " [0. 0. 0. 0. 0. 0. 0. 0. 0. 0.]\n",
      " [0. 0. 0. 0. 0. 0. 0. 0. 0. 0.]\n",
      " [0. 0. 0. 0. 0. 0. 0. 0. 0. 0.]\n",
      " [0. 0. 0. 0. 0. 0. 0. 0. 0. 0.]\n",
      " [0. 0. 0. 0. 0. 0. 0. 0. 0. 0.]\n",
      " [0. 0. 0. 0. 0. 0. 0. 0. 0. 0.]\n",
      " [0. 0. 0. 0. 0. 0. 0. 0. 0. 0.]]\n"
     ]
    }
   ],
   "source": [
    "#ones\n",
    "a=np.ones((3,3))\n",
    "b=np.zeros((10,10))\n",
    "print(a,b)"
   ]
  },
  {
   "cell_type": "code",
   "execution_count": 44,
   "id": "4fcdf571-a451-4caa-aee5-4f44f1bbaf2d",
   "metadata": {},
   "outputs": [
    {
     "name": "stdout",
     "output_type": "stream",
     "text": [
      "[0 1 2 3 4 5 6 7 8 9]\n"
     ]
    }
   ],
   "source": [
    "#arrange\n",
    "a=np.arange(10)\n",
    "print(a)"
   ]
  },
  {
   "cell_type": "code",
   "execution_count": 46,
   "id": "8e3ee42c-07fb-44ed-b6c6-6dd849566a84",
   "metadata": {},
   "outputs": [
    {
     "name": "stdout",
     "output_type": "stream",
     "text": [
      "[2 4 6 8]\n"
     ]
    }
   ],
   "source": [
    "a=np.arange(2,10,2)\n",
    "print(a)"
   ]
  },
  {
   "cell_type": "code",
   "execution_count": 48,
   "id": "fc14d60f-83a1-4f57-968d-03c6f8c08bf7",
   "metadata": {},
   "outputs": [
    {
     "name": "stdout",
     "output_type": "stream",
     "text": [
      "[ 1.          1.23076923  1.46153846  1.69230769  1.92307692  2.15384615\n",
      "  2.38461538  2.61538462  2.84615385  3.07692308  3.30769231  3.53846154\n",
      "  3.76923077  4.          4.23076923  4.46153846  4.69230769  4.92307692\n",
      "  5.15384615  5.38461538  5.61538462  5.84615385  6.07692308  6.30769231\n",
      "  6.53846154  6.76923077  7.          7.23076923  7.46153846  7.69230769\n",
      "  7.92307692  8.15384615  8.38461538  8.61538462  8.84615385  9.07692308\n",
      "  9.30769231  9.53846154  9.76923077 10.        ]\n"
     ]
    }
   ],
   "source": [
    "print(np.linspace(1,10,40))"
   ]
  },
  {
   "cell_type": "code",
   "execution_count": 54,
   "id": "9f7bd0b8-4eee-43be-b389-039063551829",
   "metadata": {},
   "outputs": [
    {
     "name": "stdout",
     "output_type": "stream",
     "text": [
      "[[1. 0.]\n",
      " [0. 1.]\n",
      " [0. 0.]]\n"
     ]
    }
   ],
   "source": [
    "#identity matrix\n",
    "print(np.eye(3,2))"
   ]
  },
  {
   "cell_type": "code",
   "execution_count": 68,
   "id": "c4ef6d8c-d6fe-4e48-9e9b-098e2f101e17",
   "metadata": {},
   "outputs": [
    {
     "name": "stdout",
     "output_type": "stream",
     "text": [
      "[ 6  8 10 12]\n",
      "[-4 -4 -4 -4]\n",
      "[ 5 12 21 32]\n",
      "[0.2        0.33333333 0.42857143 0.5       ]\n",
      "[ 4  8 12 16]\n",
      "[1. 2. 3. 4.]\n",
      "[1.41421356 2.         2.44948974 2.82842712]\n",
      "[   7.3890561    54.59815003  403.42879349 2980.95798704]\n"
     ]
    }
   ],
   "source": [
    "print(np.array([1,2,3,4])+np.array([5,6,7,8]))\n",
    "print(np.array([1,2,3,4])-np.array([5,6,7,8]))\n",
    "print(np.array([1,2,3,4])*np.array([5,6,7,8]))\n",
    "print(np.array([1,2,3,4])/np.array([5,6,7,8]))\n",
    "print(a*2)\n",
    "print(a/2)\n",
    "print(np.sqrt(a))\n",
    "print(np.exp(a))"
   ]
  },
  {
   "cell_type": "code",
   "execution_count": 70,
   "id": "11871321-1a76-4d5f-a119-737f1b6e70a3",
   "metadata": {},
   "outputs": [
    {
     "name": "stdout",
     "output_type": "stream",
     "text": [
      "[3 4 5]\n"
     ]
    }
   ],
   "source": [
    "#BroadCasting\n",
    "a=np.array([1,2,3])\n",
    "print(a+2)"
   ]
  },
  {
   "cell_type": "code",
   "execution_count": 72,
   "id": "5b50ad5f-dcb4-4a58-bacd-4602cec8b79e",
   "metadata": {},
   "outputs": [
    {
     "name": "stdout",
     "output_type": "stream",
     "text": [
      "[[11 13 15]\n",
      " [14 16 18]]\n"
     ]
    }
   ],
   "source": [
    "a=np.array([[1,2,3],[4,5,6]])\n",
    "b=np.array([10,11,12])\n",
    "print(a+b)"
   ]
  },
  {
   "cell_type": "code",
   "execution_count": 6,
   "id": "73106ff9-d5ba-404b-849c-b9fc604ab5ad",
   "metadata": {},
   "outputs": [
    {
     "name": "stdout",
     "output_type": "stream",
     "text": [
      "1\n"
     ]
    }
   ],
   "source": [
    "#slicing and indexing\n",
    "a=np.array([1,2,3,4])\n",
    "print(a[0])"
   ]
  },
  {
   "cell_type": "code",
   "execution_count": 14,
   "id": "9757daa1-3886-4e71-b67f-bde137535d1a",
   "metadata": {},
   "outputs": [
    {
     "name": "stdout",
     "output_type": "stream",
     "text": [
      "1\n",
      "8\n"
     ]
    }
   ],
   "source": [
    "b = np.array([[1, 2, 3], [4, 5, 6], [7, 8, 9]])\n",
    "print(b[0, 0])  \n",
    "print(b[2, 1])"
   ]
  },
  {
   "cell_type": "code",
   "execution_count": 20,
   "id": "18fe1a9c-3c91-46d5-b459-2656179767bb",
   "metadata": {},
   "outputs": [
    {
     "name": "stdout",
     "output_type": "stream",
     "text": [
      "[1 2 3]\n"
     ]
    }
   ],
   "source": [
    "a=np.array([1,2,3,4,5])\n",
    "b=np.array([0,1,2])\n",
    "print(a[b])"
   ]
  },
  {
   "cell_type": "code",
   "execution_count": 22,
   "id": "97918736-e71b-4a1a-94e2-d14bdcb75345",
   "metadata": {},
   "outputs": [
    {
     "name": "stdout",
     "output_type": "stream",
     "text": [
      "[4 5]\n"
     ]
    }
   ],
   "source": [
    "#boolean indexing\n",
    "a=np.array([1,2,3,4,5])\n",
    "print(a[a>3])"
   ]
  },
  {
   "cell_type": "code",
   "execution_count": 24,
   "id": "823364a2-3c8b-47fe-bb6e-aeeb607dae3c",
   "metadata": {},
   "outputs": [
    {
     "name": "stdout",
     "output_type": "stream",
     "text": [
      "[3 4 5 6]\n",
      "[1 2 3 4]\n",
      "[6 7 8 9]\n",
      "[1 3 5 7 9]\n",
      "[9 8 7 6 5 4 3 2 1]\n"
     ]
    }
   ],
   "source": [
    "\n",
    "a = np.array([1, 2, 3, 4, 5, 6, 7, 8, 9])\n",
    "print(a[2:6])  \n",
    "print(a[:4])   \n",
    "print(a[5:])   \n",
    "print(a[::2])\n",
    "print(a[::-1]) \n"
   ]
  },
  {
   "cell_type": "code",
   "execution_count": 28,
   "id": "660add74-9477-4534-b9ab-83097c6a5950",
   "metadata": {},
   "outputs": [
    {
     "name": "stdout",
     "output_type": "stream",
     "text": [
      "[[1 2]\n",
      " [4 5]]\n",
      "[2 5 8]\n"
     ]
    }
   ],
   "source": [
    "\n",
    "b = np.array([[1, 2, 3], [4, 5, 6], [7, 8, 9]])\n",
    "print(b[0:2, 0:2])\n",
    "print(b[:, 1])      \n"
   ]
  },
  {
   "cell_type": "code",
   "execution_count": 32,
   "id": "7cce73fa-f204-4f2c-aa3b-eca5ca56003e",
   "metadata": {},
   "outputs": [
    {
     "name": "stdout",
     "output_type": "stream",
     "text": [
      "[2]\n",
      "[5 4 3 2 1]\n"
     ]
    }
   ],
   "source": [
    "a=np.array([1,2,3,4,5])\n",
    "print(a[1:3:2])\n",
    "print(a[::-1])"
   ]
  },
  {
   "cell_type": "code",
   "execution_count": 34,
   "id": "dee69db1-26c1-4b29-ae41-a63d3e67fb92",
   "metadata": {},
   "outputs": [
    {
     "name": "stdout",
     "output_type": "stream",
     "text": [
      "[  1   2 100   4   4]\n"
     ]
    }
   ],
   "source": [
    "a=np.array([1,2,3,4,4])\n",
    "a[2]=100\n",
    "print(a)"
   ]
  },
  {
   "cell_type": "code",
   "execution_count": 52,
   "id": "0dcd2e0c-78c2-4e37-bfa3-fe7ff7ef423f",
   "metadata": {},
   "outputs": [
    {
     "name": "stdout",
     "output_type": "stream",
     "text": [
      "[[1 2]\n",
      " [3 4]\n",
      " [5 6]]\n",
      "[[[1 2 3]]\n",
      "\n",
      " [[4 5 6]]]\n",
      "[1 2 3 4 5 6]\n"
     ]
    }
   ],
   "source": [
    "a=np.array([1,2,3,4,5,6])\n",
    "b=a.reshape(3,2)\n",
    "print(b)\n",
    "c=a.reshape(2,1,3)\n",
    "print(c)\n",
    "print(c.ravel())"
   ]
  },
  {
   "cell_type": "code",
   "execution_count": 72,
   "id": "b243ebe6-3584-4eec-9990-99df5e71f75c",
   "metadata": {},
   "outputs": [
    {
     "name": "stdout",
     "output_type": "stream",
     "text": [
      "[[1 2 3]\n",
      " [5 6 7]]\n",
      "[1 2 3 5 6 7]\n"
     ]
    }
   ],
   "source": [
    "a=np.array([1,2,3])\n",
    "b=np.array([5,6,7])\n",
    "c=np.stack((a,b))\n",
    "print(c)\n",
    "print(np.concatenate((a,b),axis=None))\n"
   ]
  },
  {
   "cell_type": "code",
   "execution_count": 74,
   "id": "b38adbbe-0757-40c2-90d1-a15dded92253",
   "metadata": {},
   "outputs": [
    {
     "name": "stdout",
     "output_type": "stream",
     "text": [
      "[1 2 3 4]\n",
      "[[1 2]\n",
      " [3 4]]\n",
      "[[1 3]\n",
      " [2 4]]\n"
     ]
    }
   ],
   "source": [
    "a = np.array([1, 2])\n",
    "b = np.array([3, 4])\n",
    "\n",
    "# Stack arrays horizontally\n",
    "c = np.hstack((a, b))\n",
    "print(c)\n",
    "\n",
    "# Stack arrays vertically\n",
    "d = np.vstack((a, b))\n",
    "print(d)\n",
    "\n",
    "# Stack arrays along a new axis\n",
    "e = np.stack((a, b), axis=1)\n",
    "print(e)"
   ]
  },
  {
   "cell_type": "code",
   "execution_count": 76,
   "id": "8ebf9afa-fdae-4875-9bcc-9fee24c32b08",
   "metadata": {},
   "outputs": [
    {
     "name": "stdout",
     "output_type": "stream",
     "text": [
      "Horizontal split:\n",
      "Left sub-array:\n",
      " [[ 1  2]\n",
      " [ 5  6]\n",
      " [ 9 10]\n",
      " [13 14]]\n",
      "Right sub-array:\n",
      " [[ 3  4]\n",
      " [ 7  8]\n",
      " [11 12]\n",
      " [15 16]]\n"
     ]
    }
   ],
   "source": [
    "a = np.array([[1, 2, 3, 4],\n",
    "              [5, 6, 7, 8],\n",
    "              [9, 10, 11, 12],\n",
    "              [13, 14, 15, 16]])\n",
    "\n",
    "# Split the array horizontally into 2 sub-arrays\n",
    "left, right = np.hsplit(a, 2)\n",
    "print(\"Horizontal split:\")\n",
    "print(\"Left sub-array:\\n\", left)\n",
    "print(\"Right sub-array:\\n\", right)\n"
   ]
  },
  {
   "cell_type": "code",
   "execution_count": 80,
   "id": "a5d723a2-4f59-4d0e-9453-797c97b11cc3",
   "metadata": {},
   "outputs": [
    {
     "name": "stdout",
     "output_type": "stream",
     "text": [
      "[1 2 3 4 5]\n"
     ]
    }
   ],
   "source": [
    "a=np.array([1,2,3])\n",
    "b=np.append(a,[4,5])\n",
    "print(b)"
   ]
  },
  {
   "cell_type": "code",
   "execution_count": 88,
   "id": "747381fd-5dff-4731-9f5a-98ebabce62b4",
   "metadata": {},
   "outputs": [
    {
     "name": "stdout",
     "output_type": "stream",
     "text": [
      "[[ 1  2]\n",
      " [ 3  4]\n",
      " [10 20]]\n"
     ]
    }
   ],
   "source": [
    "c=np.array([[1,2],[3,4]])\n",
    "d=np.append(c,[[10,20]],axis=0)\n",
    "print(d)"
   ]
  },
  {
   "cell_type": "code",
   "execution_count": 92,
   "id": "c9c6d152-3958-44aa-bbc2-1e3db0f2cc30",
   "metadata": {},
   "outputs": [
    {
     "name": "stdout",
     "output_type": "stream",
     "text": [
      "[  1   2 100 200   3   4]\n"
     ]
    }
   ],
   "source": [
    "a=np.array([1,2,3,4])\n",
    "b=np.insert(a,2,[100,200])\n",
    "print(b)"
   ]
  },
  {
   "cell_type": "code",
   "execution_count": 100,
   "id": "85e299ca-ecc0-4c0e-b691-4809cb2acc25",
   "metadata": {},
   "outputs": [
    {
     "name": "stdout",
     "output_type": "stream",
     "text": [
      "[1 3 5]\n",
      "[[1 3]\n",
      " [4 6]]\n"
     ]
    }
   ],
   "source": [
    "a=np.array([1,2,3,4,5])\n",
    "b=np.delete(a,[1,3])\n",
    "print(b)\n",
    "c=np.array([[1,2,3],[4,5,6]])\n",
    "d=np.delete(c,1,axis=1)\n",
    "print(d)"
   ]
  },
  {
   "cell_type": "code",
   "execution_count": 106,
   "id": "ed910413-a4d3-4d30-a686-dcd936e38353",
   "metadata": {},
   "outputs": [
    {
     "name": "stdout",
     "output_type": "stream",
     "text": [
      "[[[1 2 3]\n",
      "  [4 5 1]\n",
      "  [2 3 4]]\n",
      "\n",
      " [[5 1 2]\n",
      "  [3 4 5]\n",
      "  [1 2 3]]\n",
      "\n",
      " [[4 5 1]\n",
      "  [2 3 4]\n",
      "  [5 1 2]]]\n"
     ]
    }
   ],
   "source": [
    "a=np.array([1,2,3,4,5])\n",
    "b=np.resize(a,(3,3,3))\n",
    "print(b)"
   ]
  }
 ],
 "metadata": {
  "kernelspec": {
   "display_name": "Python 3 (ipykernel)",
   "language": "python",
   "name": "python3"
  },
  "language_info": {
   "codemirror_mode": {
    "name": "ipython",
    "version": 3
   },
   "file_extension": ".py",
   "mimetype": "text/x-python",
   "name": "python",
   "nbconvert_exporter": "python",
   "pygments_lexer": "ipython3",
   "version": "3.11.7"
  }
 },
 "nbformat": 4,
 "nbformat_minor": 5
}
