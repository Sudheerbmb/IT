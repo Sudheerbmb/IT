{
  "nbformat": 4,
  "nbformat_minor": 0,
  "metadata": {
    "colab": {
      "provenance": [],
      "authorship_tag": "ABX9TyMbaTIPNbYMiD7YKqRIinR5",
      "include_colab_link": true
    },
    "kernelspec": {
      "name": "python3",
      "display_name": "Python 3"
    },
    "language_info": {
      "name": "python"
    }
  },
  "cells": [
    {
      "cell_type": "markdown",
      "metadata": {
        "id": "view-in-github",
        "colab_type": "text"
      },
      "source": [
        "<a href=\"https://colab.research.google.com/github/Sudheerbmb/IT/blob/main/Day_3(IN_%26_EX).ipynb\" target=\"_parent\"><img src=\"https://colab.research.google.com/assets/colab-badge.svg\" alt=\"Open In Colab\"/></a>"
      ]
    },
    {
      "cell_type": "code",
      "execution_count": 9,
      "metadata": {
        "colab": {
          "base_uri": "https://localhost:8080/"
        },
        "id": "HXZ7fTr7dQG8",
        "outputId": "fbcda8e3-db44-43d7-fbcb-3cb653c3280a"
      },
      "outputs": [
        {
          "output_type": "stream",
          "name": "stdout",
          "text": [
            "Pradeep\n",
            "sudheer\n",
            "20\n"
          ]
        }
      ],
      "source": [
        "from typing_extensions import AsyncGenerator\n",
        "\"Inheritance\"\n",
        "#Base and child class\n",
        "class Parent:\n",
        "  def __init__(self,name):\n",
        "    self.name=name\n",
        "  def getinfo(self):\n",
        "    print(self.name)\n",
        "\n",
        "\n",
        "class child(Parent):\n",
        "  def __init__(self,name,age):\n",
        "    super().__init__(name)\n",
        "    self.age=age\n",
        "  def getiinfo(self):\n",
        "    super().getinfo()\n",
        "    print(self.age)\n",
        "\n",
        "\n",
        "A=child(\"sudheer\",20)\n",
        "B=Parent(\"Pradeep\")\n",
        "B.getinfo()\n",
        "A.getiinfo()"
      ]
    },
    {
      "cell_type": "code",
      "source": [
        "\"Properties\"\n",
        "# \"Code Reusability\"\n",
        "class A:\n",
        "  @staticmethod\n",
        "  def add(a,b):\n",
        "    print(a+b)\n",
        "class B(A):\n",
        "  pass\n",
        "obj=B()\n",
        "obj.add(10,20)\n",
        "A.add(10,20)\n",
        "B.add(10,20)"
      ],
      "metadata": {
        "colab": {
          "base_uri": "https://localhost:8080/"
        },
        "id": "lFFHCBEAfAoa",
        "outputId": "c24d124c-07e7-4f7c-d8aa-5af5a31941a6"
      },
      "execution_count": 11,
      "outputs": [
        {
          "output_type": "stream",
          "name": "stdout",
          "text": [
            "30\n",
            "30\n",
            "30\n"
          ]
        }
      ]
    },
    {
      "cell_type": "code",
      "source": [
        "#Hierarchy\n",
        "class GP:\n",
        "  pass\n",
        "class P(GP):\n",
        "  pass\n",
        "class C(P):\n",
        "  pass"
      ],
      "metadata": {
        "id": "ZZilXb0klbXe"
      },
      "execution_count": 12,
      "outputs": []
    },
    {
      "cell_type": "code",
      "source": [
        "#Extensibility\n",
        "class GP:\n",
        "  def greet(self):\n",
        "    pass\n",
        "class P(GP):\n",
        "  def greet(self):\n",
        "    print(\"Hello\")\n",
        "A=P()\n",
        "A.greet()"
      ],
      "metadata": {
        "colab": {
          "base_uri": "https://localhost:8080/"
        },
        "id": "HXcW6WL2lziZ",
        "outputId": "b3ff8f53-6602-45c2-8aed-467b60bd1cf1"
      },
      "execution_count": 14,
      "outputs": [
        {
          "output_type": "stream",
          "name": "stdout",
          "text": [
            "Hello\n"
          ]
        }
      ]
    },
    {
      "cell_type": "code",
      "source": [
        "#Polymorphism\n",
        "class A:\n",
        "  def count(self):\n",
        "    print(\"Hello\")\n",
        "class B(A):\n",
        "  def count(self):\n",
        "    print(\"Hello Hi\")\n",
        "class C(B):\n",
        "  def count(self):\n",
        "    print(\"Hello and Hi to everyone\")\n",
        "a,b,c=A(),B(),C()\n",
        "l=[a,b,c]\n",
        "for i in l:\n",
        "  i.count()\n"
      ],
      "metadata": {
        "colab": {
          "base_uri": "https://localhost:8080/"
        },
        "id": "mX2OTiCkmGVH",
        "outputId": "9a4508b8-b0a1-42ae-f539-1afd4acaef67"
      },
      "execution_count": 17,
      "outputs": [
        {
          "output_type": "stream",
          "name": "stdout",
          "text": [
            "Hello\n",
            "Hello Hi\n",
            "Hello and Hi to everyone\n"
          ]
        }
      ]
    },
    {
      "cell_type": "code",
      "source": [
        "\"Encapsulation\"\n",
        "class A:\n",
        "  def __init__(self,name):\n",
        "    self.name=name\n",
        "class B(A):\n",
        "  def add(self):\n",
        "    print(\"Ku\")"
      ],
      "metadata": {
        "id": "fqnYOVdhm8Xe"
      },
      "execution_count": 18,
      "outputs": []
    },
    {
      "cell_type": "code",
      "source": [
        "#MRO(Method Resolution order)\n",
        "class A:\n",
        "  def count(self):\n",
        "    print(\"Hello\")\n",
        "class B(A):\n",
        "  def count(self):\n",
        "    print(\"Hello Hi\")\n",
        "class C(B):\n",
        "  def count(self):\n",
        "    print(\"Hello and Hi to everyone\")\n",
        "a,b,c=A(),B(),C()\n",
        "l=[a,b,c]\n",
        "for i in l:\n",
        "  i.count()\n"
      ],
      "metadata": {
        "colab": {
          "base_uri": "https://localhost:8080/"
        },
        "id": "QPl1_qLQnvKG",
        "outputId": "89aa9678-4449-4005-d950-5fe65a634964"
      },
      "execution_count": 19,
      "outputs": [
        {
          "output_type": "stream",
          "name": "stdout",
          "text": [
            "Hello\n",
            "Hello Hi\n",
            "Hello and Hi to everyone\n"
          ]
        }
      ]
    },
    {
      "cell_type": "code",
      "source": [
        "\"Types of inheritance\"\n",
        "#Single level\n",
        "class Car:\n",
        "  def greet(self):\n",
        "    print(\"Hello\")\n",
        "class Vehicle(Car):\n",
        "  pass"
      ],
      "metadata": {
        "id": "ZkuG3Abbn49G"
      },
      "execution_count": 20,
      "outputs": []
    },
    {
      "cell_type": "code",
      "source": [
        "#Multiple Inheritance\n",
        "class Car:\n",
        "  def greet(self):\n",
        "    print(\"Car says hello\")\n",
        "class Vehicle:\n",
        "  def greet(self):\n",
        "    # super().greet()\n",
        "    print(\"Vehicle says hello\")\n",
        "class Tesla(Car,Vehicle):\n",
        "  def greet2(self):\n",
        "    super().greet()\n",
        "    # super().greet()\n",
        "A=Tesla()\n",
        "A.greet2()"
      ],
      "metadata": {
        "colab": {
          "base_uri": "https://localhost:8080/"
        },
        "id": "AX2i11CdobsB",
        "outputId": "cfa871b4-9a02-410f-92d1-698b2cc60f24"
      },
      "execution_count": 24,
      "outputs": [
        {
          "output_type": "stream",
          "name": "stdout",
          "text": [
            "Car says hello\n",
            "Car says hello\n"
          ]
        }
      ]
    },
    {
      "cell_type": "code",
      "source": [
        "#Multilevel inheritance\n",
        "\n",
        "class Country:\n",
        "    def __init__(self, country):\n",
        "        self.country = country\n",
        "\n",
        "class State(Country):\n",
        "    def __init__(self, country, state):\n",
        "        super().__init__(country)\n",
        "        self.state = state\n",
        "\n",
        "class District(State):\n",
        "    def __init__(self, country, state, district):\n",
        "        super().__init__(country, state)\n",
        "        self.district = district\n",
        "\n",
        "A = District(\"India\", \"Andhra\", \"Kadapa\")\n",
        "\n",
        "print(f\"Country: {A.country}, State: {A.state}, District: {A.district}\")\n",
        "\n"
      ],
      "metadata": {
        "colab": {
          "base_uri": "https://localhost:8080/"
        },
        "id": "Rb_yWVdspOZV",
        "outputId": "1674f6c5-924a-40d9-ed32-c9d6d1c1181f"
      },
      "execution_count": 29,
      "outputs": [
        {
          "output_type": "stream",
          "name": "stdout",
          "text": [
            "Country: India, State: Andhra, District: Kadapa\n"
          ]
        }
      ]
    },
    {
      "cell_type": "code",
      "source": [
        "#Heirarchical Inheritance\n",
        "class Party:\n",
        "  def __init__(self,name):\n",
        "    self.name=name\n",
        "class India(Party):\n",
        "  def __init__(self,name,state):\n",
        "    super().__init__(name)\n",
        "    self.state=state\n",
        "class NDA(Party):\n",
        "  def __init__(self,name,state):\n",
        "    super().__init__(name)\n",
        "    self.state=state\n",
        ""
      ],
      "metadata": {
        "id": "ZxRcHz9ErMSD"
      },
      "execution_count": 30,
      "outputs": []
    },
    {
      "cell_type": "code",
      "source": [
        "#Hybrid inheritance\n",
        "class A:\n",
        "  pass\n",
        "class B(A):\n",
        "  pass\n",
        "class C(A):\n",
        "  pass\n",
        "class D:\n",
        "  pass\n",
        "class E(D,C):\n",
        "  pass\n",
        ""
      ],
      "metadata": {
        "id": "rDeIPfMMr70a"
      },
      "execution_count": 31,
      "outputs": []
    },
    {
      "cell_type": "code",
      "source": [
        "#Method Overriding\n",
        "class hospital:\n",
        "  def info(self):\n",
        "    pass\n",
        "class GH(hospital):\n",
        "  def info(self):\n",
        "    print(\"Current patient count is 1000\")\n",
        "A=GH()\n",
        "B=hospital()\n",
        "B.info()\n",
        "A.info()"
      ],
      "metadata": {
        "colab": {
          "base_uri": "https://localhost:8080/"
        },
        "id": "VOCJTYMKsNhM",
        "outputId": "a9756516-14a4-4f53-9cce-57685cd56743"
      },
      "execution_count": 33,
      "outputs": [
        {
          "output_type": "stream",
          "name": "stdout",
          "text": [
            "Current patient count is 1000\n"
          ]
        }
      ]
    },
    {
      "cell_type": "code",
      "source": [
        "#Super() method\n",
        "class Parent:\n",
        "  def __init__(self,name):\n",
        "    self.name=name\n",
        "class child(Parent):\n",
        "  def __init__(self,name,child):\n",
        "    super().__init__(name)\n",
        "    self.child=child\n",
        ""
      ],
      "metadata": {
        "id": "3oTl9DIZsjVj"
      },
      "execution_count": 34,
      "outputs": []
    },
    {
      "cell_type": "code",
      "source": [
        "#super() method with __str__\n",
        "class CLASS:\n",
        "  def __str__(self):\n",
        "    return \"This is my first internship\"\n",
        "class Class(CLASS):\n",
        "  def __str__(self):\n",
        "   return  super().__str__()+\".All the best to me\"\n",
        "A=Class()\n",
        "print(A)"
      ],
      "metadata": {
        "colab": {
          "base_uri": "https://localhost:8080/"
        },
        "id": "mWMb1T23tXF5",
        "outputId": "580a1297-20d5-41fe-85b4-bef5cac933f2"
      },
      "execution_count": 40,
      "outputs": [
        {
          "output_type": "stream",
          "name": "stdout",
          "text": [
            "This is my first internship.All the best to me\n"
          ]
        }
      ]
    },
    {
      "cell_type": "code",
      "source": [
        "#super() method using a parent method\n",
        "class shape:\n",
        "  def __init__(self,shape):\n",
        "    self.shape=shape\n",
        "class circle(shape):\n",
        "  def __init__(self,shape,radius):\n",
        "    super().__init__(shape)\n",
        "    self.radius=radius\n",
        "class rectangle(shape):\n",
        "  def __init__(self,shape,length,breadth):\n",
        "    super().__init__(shape)\n",
        "    self.length=length\n",
        "    self.breadth=breadth\n",
        "  def area(self):\n",
        "    print(self.length*self.breadth)\n",
        "class square(rectangle):\n",
        "  def __init__(self,shape,length,length1):\n",
        "    super().__init__(shape,length,length1)\n",
        "  def area(self):\n",
        "    super().area()\n",
        "A=square(\"A\",10,10)\n",
        "A.area()"
      ],
      "metadata": {
        "colab": {
          "base_uri": "https://localhost:8080/"
        },
        "id": "jRQshu2juSfT",
        "outputId": "afb0534a-46c6-46e8-f512-98c6711304d6"
      },
      "execution_count": 46,
      "outputs": [
        {
          "output_type": "stream",
          "name": "stdout",
          "text": [
            "100\n"
          ]
        }
      ]
    },
    {
      "cell_type": "markdown",
      "source": [
        "# Exception Handling"
      ],
      "metadata": {
        "id": "U2gUQ_qUAgNl"
      }
    },
    {
      "cell_type": "code",
      "source": [
        "#Zero Division Error\n",
        "try:\n",
        "  print(10/0)\n",
        "except:\n",
        "  print(\"Zero cant divide\")"
      ],
      "metadata": {
        "colab": {
          "base_uri": "https://localhost:8080/"
        },
        "id": "GlC4eIZyAlRR",
        "outputId": "f76b9b5f-74e0-4190-f897-f32138964941"
      },
      "execution_count": 52,
      "outputs": [
        {
          "output_type": "stream",
          "name": "stdout",
          "text": [
            "Zero cant divide\n"
          ]
        }
      ]
    },
    {
      "cell_type": "code",
      "source": [
        "#Multiple Exceptions\n",
        "try:\n",
        "  print(10/0)\n",
        "except ZeroDivisionError:\n",
        "  print(\"Zero cant divide\")\n",
        "except ValueError:\n",
        "  print(\"Invalid value\")"
      ],
      "metadata": {
        "colab": {
          "base_uri": "https://localhost:8080/"
        },
        "id": "FrKIQ8HEDC7d",
        "outputId": "b1e07f96-31da-4378-ba8c-eb889cec06e3"
      },
      "execution_count": 53,
      "outputs": [
        {
          "output_type": "stream",
          "name": "stdout",
          "text": [
            "Zero cant divide\n"
          ]
        }
      ]
    },
    {
      "cell_type": "code",
      "source": [
        "#Finally Block\n",
        "try:\n",
        "  print(10/0)\n",
        "except ZeroDivisionError:\n",
        "  print(\"Zero cant divide\")\n",
        "except ValueError:\n",
        "  print(\"Invalid value\")\n",
        "finally:\n",
        "  print(\"Finished\")"
      ],
      "metadata": {
        "colab": {
          "base_uri": "https://localhost:8080/"
        },
        "id": "e1JmjYaTC-Nw",
        "outputId": "2de04991-ff1f-4d49-ff08-11a86f8dab11"
      },
      "execution_count": 54,
      "outputs": [
        {
          "output_type": "stream",
          "name": "stdout",
          "text": [
            "Zero cant divide\n",
            "Finished\n"
          ]
        }
      ]
    },
    {
      "cell_type": "code",
      "source": [
        "#SyntaxError(\"Incorrect syntax\")\n",
        "try:\n",
        "  eval(\"for i in x:\")\n",
        "except SyntaxError:\n",
        "  print(\"Correct the syntax\")"
      ],
      "metadata": {
        "colab": {
          "base_uri": "https://localhost:8080/"
        },
        "id": "dZH85_Z1Dm2J",
        "outputId": "e2288633-8540-452f-8d65-5a4e79a40a5d"
      },
      "execution_count": 57,
      "outputs": [
        {
          "output_type": "stream",
          "name": "stdout",
          "text": [
            "Correct the syntax\n"
          ]
        }
      ]
    },
    {
      "cell_type": "code",
      "source": [
        "# try:\n",
        "#     if True:\n",
        "#     print(\"Hello\")\n",
        "# except IndentationError as e:\n",
        "#     print(f\"IndentationError caught: {e}\")\n",
        "# except Exception as e:\n",
        "#     print(f\"Other error caught: {e}\")"
      ],
      "metadata": {
        "id": "GfBuAWihGitE"
      },
      "execution_count": 65,
      "outputs": []
    },
    {
      "cell_type": "code",
      "source": [
        "#NameError(\"Trying to access undeclared and uninitialised variables\")\n",
        "try:\n",
        "  print(sudheer)\n",
        "except NameError as e:\n",
        "  print(e)"
      ],
      "metadata": {
        "colab": {
          "base_uri": "https://localhost:8080/"
        },
        "id": "vUmgDeeMHwOl",
        "outputId": "05387940-9c59-40d9-8742-42326efee338"
      },
      "execution_count": 66,
      "outputs": [
        {
          "output_type": "stream",
          "name": "stdout",
          "text": [
            "name 'sudheer' is not defined\n"
          ]
        }
      ]
    },
    {
      "cell_type": "code",
      "source": [
        "#TypeError(\"When abrupt type variables are calculated\")\n",
        "try:\n",
        "  print(10/\"a\")\n",
        "except TypeError as k:\n",
        "  print(str(k))"
      ],
      "metadata": {
        "colab": {
          "base_uri": "https://localhost:8080/"
        },
        "id": "Us2zsBW-H4RA",
        "outputId": "f0a68e6c-978b-4547-ae74-97f0a65225b8"
      },
      "execution_count": 67,
      "outputs": [
        {
          "output_type": "stream",
          "name": "stdout",
          "text": [
            "unsupported operand type(s) for /: 'int' and 'str'\n"
          ]
        }
      ]
    },
    {
      "cell_type": "code",
      "source": [
        "#ValueError(\"Inappropriate data type\")\n",
        "try:\n",
        "  print(int(\"sudheer\"))\n",
        "except ValueError as e:\n",
        "  print(e.args)\n"
      ],
      "metadata": {
        "colab": {
          "base_uri": "https://localhost:8080/"
        },
        "id": "DFggzFfUIXiT",
        "outputId": "cc24b258-987f-4d8f-dce5-31426f20c7ce"
      },
      "execution_count": 68,
      "outputs": [
        {
          "output_type": "stream",
          "name": "stdout",
          "text": [
            "(\"invalid literal for int() with base 10: 'sudheer'\",)\n"
          ]
        }
      ]
    },
    {
      "cell_type": "code",
      "source": [
        "#ZeroDivisionError\n",
        "try:\n",
        "  print(1000/0)\n",
        "except ZeroDivisionError as k:\n",
        "  print(type(k),str(k),repr(k),k.args,sep=\"\\n\")"
      ],
      "metadata": {
        "colab": {
          "base_uri": "https://localhost:8080/"
        },
        "id": "fRjSCgGSI2Za",
        "outputId": "9a920c7b-f6e3-46bc-ce2f-3f67964970ec"
      },
      "execution_count": 71,
      "outputs": [
        {
          "output_type": "stream",
          "name": "stdout",
          "text": [
            "<class 'ZeroDivisionError'>\n",
            "division by zero\n",
            "ZeroDivisionError('division by zero')\n",
            "('division by zero',)\n"
          ]
        }
      ]
    },
    {
      "cell_type": "code",
      "source": [
        "#CustomExceptions\n",
        "class LPUException(Exception):\n",
        "  pass\n",
        "def add(a,b):\n",
        "  if(a<0 or b<0):\n",
        "    raise LPUException(\"Negative numbers are not entertained\")\n",
        "  else:\n",
        "    print(a+b)\n",
        "try:\n",
        "  add(10,20)\n",
        "  add(-10,-20)\n",
        "except LPUException as k:\n",
        "  print(type(k),str(k),repr(k),k.args,sep=\"\\n\")\n"
      ],
      "metadata": {
        "colab": {
          "base_uri": "https://localhost:8080/"
        },
        "id": "803UwzVAJFGs",
        "outputId": "d16e14d3-2a43-4cc8-938b-cd1858c1d127"
      },
      "execution_count": 75,
      "outputs": [
        {
          "output_type": "stream",
          "name": "stdout",
          "text": [
            "30\n",
            "<class '__main__.LPUException'>\n",
            "Negative numbers are not entertained\n",
            "LPUException('Negative numbers are not entertained')\n",
            "('Negative numbers are not entertained',)\n"
          ]
        }
      ]
    },
    {
      "cell_type": "code",
      "source": [
        "#Details of exception\n",
        "try:\n",
        "  print(eval(\"for i\"))\n",
        "except Exception as k:\n",
        "  print(type(k),str(k),repr(k),k.args,sep=\"\\n\")"
      ],
      "metadata": {
        "colab": {
          "base_uri": "https://localhost:8080/"
        },
        "id": "64JcYB4UJ1pe",
        "outputId": "02c5a71d-ac56-4351-d049-8d9631488495"
      },
      "execution_count": 78,
      "outputs": [
        {
          "output_type": "stream",
          "name": "stdout",
          "text": [
            "<class 'SyntaxError'>\n",
            "invalid syntax (<string>, line 1)\n",
            "SyntaxError('invalid syntax', ('<string>', 1, 1, 'for i', 1, 4))\n",
            "('invalid syntax', ('<string>', 1, 1, 'for i', 1, 4))\n"
          ]
        }
      ]
    },
    {
      "cell_type": "code",
      "source": [
        "#Rising Built-in exception\n",
        "def divide(a,b):\n",
        "  if(b==0):\n",
        "    raise ZeroDivisionError(\"Dont give zero as second parameter\")\n",
        "  else:\n",
        "    return a/b\n",
        "try:\n",
        "  divide(20,10)\n",
        "  divide(13,0)\n",
        "except ZeroDivisionError as e:\n",
        "  print(e)\n",
        "\n"
      ],
      "metadata": {
        "colab": {
          "base_uri": "https://localhost:8080/"
        },
        "id": "fHI5tVFSKaKo",
        "outputId": "f72113bf-2f5b-44cc-a568-8a770a00866d"
      },
      "execution_count": 81,
      "outputs": [
        {
          "output_type": "stream",
          "name": "stdout",
          "text": [
            "Dont give zero as second parameter\n"
          ]
        }
      ]
    },
    {
      "cell_type": "code",
      "source": [
        "#Rising custom exceptions\n",
        "class Custom(Exception):\n",
        "  pass\n",
        "def type(a):\n",
        "  if isinstance(a,float):\n",
        "    print(int(a))\n",
        "  else:\n",
        "    raise Custom(\"Please enter a valid float value\")\n",
        "try:\n",
        "  type(10.0)\n",
        "  type(100)\n",
        "except Custom as e:\n",
        "  print(str(e))\n",
        "\n",
        "\n"
      ],
      "metadata": {
        "colab": {
          "base_uri": "https://localhost:8080/"
        },
        "id": "hOIriKDpMwhW",
        "outputId": "d4182111-e32d-4200-91db-a05e6bec4346"
      },
      "execution_count": 86,
      "outputs": [
        {
          "output_type": "stream",
          "name": "stdout",
          "text": [
            "10\n",
            "Please enter a valid float value\n"
          ]
        }
      ]
    },
    {
      "cell_type": "code",
      "source": [
        "#Base exception\n",
        "try:\n",
        "  try:\n",
        "    raise BaseException(\"Exception\")\n",
        "  except:\n",
        "    print(\"OK\")\n",
        "except:\n",
        "  print(\"OK\")\n",
        "finally:\n",
        "  print(\"Finished\")"
      ],
      "metadata": {
        "colab": {
          "base_uri": "https://localhost:8080/"
        },
        "id": "Ze3IFOHTNv7v",
        "outputId": "3717cbb0-048b-4869-888d-e8154c522114"
      },
      "execution_count": 87,
      "outputs": [
        {
          "output_type": "stream",
          "name": "stdout",
          "text": [
            "OK\n",
            "Finished\n"
          ]
        }
      ]
    },
    {
      "cell_type": "code",
      "source": [
        "#Example\n",
        "# Write a function that takes two numbers as input and divides the first number by the second number.\n",
        "# Raise a ZeroDivisionError if the second number is zero.\n",
        "def division(num1,num2):\n",
        "  if(num2==0):\n",
        "    raise ZeroDivisionError(\"Zero cant divide\")\n",
        "  else:\n",
        "    return num1/num2\n",
        "try:\n",
        "  division(100,20)\n",
        "  division(100,0)\n",
        "except ZeroDivisionError as e:\n",
        "  print(e)"
      ],
      "metadata": {
        "colab": {
          "base_uri": "https://localhost:8080/"
        },
        "id": "8omQ6yr_OSHC",
        "outputId": "c4d9baf5-f259-4712-edbd-792f4985e3c9"
      },
      "execution_count": 88,
      "outputs": [
        {
          "output_type": "stream",
          "name": "stdout",
          "text": [
            "Zero cant divide\n"
          ]
        }
      ]
    },
    {
      "cell_type": "code",
      "source": [
        "\"Q2\"\n",
        "class Palind(Exception):\n",
        "  pass\n",
        "def Pal(a):\n",
        "  if(isinstance(a,str)):\n",
        "    if(a==a[::-1]):\n",
        "      print(\"Palindrome\")\n",
        "    else:\n",
        "      print(\"Not a valid palindrome\")\n",
        "  else:\n",
        "    raise Palind(\"Please enter a valid string\")\n",
        "try:\n",
        "  Pal(\"MALAYALAM\")\n",
        "  Pal(100)\n",
        "except Palind as e:\n",
        "  print(e)"
      ],
      "metadata": {
        "colab": {
          "base_uri": "https://localhost:8080/"
        },
        "id": "RaZ4ynu9PRBx",
        "outputId": "e420f1df-a6d8-4c6b-9317-c79bebcc1ebf"
      },
      "execution_count": 93,
      "outputs": [
        {
          "output_type": "stream",
          "name": "stdout",
          "text": [
            "Palindrome\n",
            "Please enter a valid string\n"
          ]
        }
      ]
    },
    {
      "cell_type": "code",
      "source": [
        "\"Q3\"\n",
        "x=[i for i in range(0,10)]\n",
        "x=x[::-1]\n",
        "try:\n",
        "  for j in x:\n",
        "    print(j/0)\n",
        "except ZeroDivisionError as e:\n",
        "  print(e)\n",
        "finally:\n",
        "  print(\"Completed\")"
      ],
      "metadata": {
        "colab": {
          "base_uri": "https://localhost:8080/"
        },
        "id": "2VScUQH9QGKo",
        "outputId": "bce97804-9929-4a85-9a34-61e0e03286b2"
      },
      "execution_count": 96,
      "outputs": [
        {
          "output_type": "stream",
          "name": "stdout",
          "text": [
            "division by zero\n",
            "Completed\n"
          ]
        }
      ]
    },
    {
      "cell_type": "code",
      "source": [
        "\"Q4\"\n",
        "def division(num1,num2):\n",
        "  if(num2==0):\n",
        "    raise ZeroDivisionError(\"Zero cant divide\")\n",
        "  else:\n",
        "    return num1/num2\n",
        "try:\n",
        "  division(100,20)\n",
        "  division(100,0)\n",
        "except ZeroDivisionError as e:\n",
        "  print(e)"
      ],
      "metadata": {
        "colab": {
          "base_uri": "https://localhost:8080/"
        },
        "id": "ErpB9lxkQriM",
        "outputId": "459baf06-97cd-4164-ff59-38e1cb111e36"
      },
      "execution_count": 97,
      "outputs": [
        {
          "output_type": "stream",
          "name": "stdout",
          "text": [
            "Zero cant divide\n"
          ]
        }
      ]
    },
    {
      "cell_type": "code",
      "source": [
        "\"Q5\"\n",
        "try:\n",
        "  print(int(10.0))\n",
        "  print(int(\"Python\"))\n",
        "except ValueError as e:\n",
        "  print(e)\n",
        "finally:\n",
        "  print(\"Task completed\")"
      ],
      "metadata": {
        "colab": {
          "base_uri": "https://localhost:8080/"
        },
        "id": "tWbCRTReQ7fq",
        "outputId": "078e3f68-4885-4cdc-fc5a-0179434a03ee"
      },
      "execution_count": 98,
      "outputs": [
        {
          "output_type": "stream",
          "name": "stdout",
          "text": [
            "10\n",
            "invalid literal for int() with base 10: 'Python'\n",
            "Task completed\n"
          ]
        }
      ]
    },
    {
      "cell_type": "code",
      "source": [
        "\"Q6\"\n",
        "import math\n",
        "class NegativeNumberException(Exception):\n",
        "  pass\n",
        "def sqrt(a):\n",
        "  if(a<0):\n",
        "    raise NegativeNumberException(\"Please enter only positive integers\")\n",
        "  else:\n",
        "    print(math.sqrt(a))\n",
        "try:\n",
        "  sqrt(196)\n",
        "  sqrt(-10)\n",
        "except NegativeNumberException as e:\n",
        "  print(e)"
      ],
      "metadata": {
        "colab": {
          "base_uri": "https://localhost:8080/"
        },
        "id": "fOgtaFVeRKdG",
        "outputId": "c3cd0de4-2be0-4001-aa0d-dd20966108ce"
      },
      "execution_count": 100,
      "outputs": [
        {
          "output_type": "stream",
          "name": "stdout",
          "text": [
            "14.0\n",
            "Please enter only positive integers\n"
          ]
        }
      ]
    }
  ]
}
